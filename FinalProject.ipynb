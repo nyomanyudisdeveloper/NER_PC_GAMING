{
 "cells": [
  {
   "cell_type": "markdown",
   "metadata": {},
   "source": [
    "### ***Import Libraries***"
   ]
  },
  {
   "cell_type": "markdown",
   "metadata": {},
   "source": [
    "----"
   ]
  },
  {
   "cell_type": "code",
   "execution_count": 1,
   "metadata": {},
   "outputs": [
    {
     "name": "stdout",
     "output_type": "stream",
     "text": [
      "WARNING:tensorflow:From c:\\Users\\Richard E.V\\Anaconda\\Lib\\site-packages\\keras\\src\\losses.py:2976: The name tf.losses.sparse_softmax_cross_entropy is deprecated. Please use tf.compat.v1.losses.sparse_softmax_cross_entropy instead.\n",
      "\n"
     ]
    }
   ],
   "source": [
    "import pandas as pd\n",
    "import nltk\n",
    "import re\n",
    "# Import Libraries\n",
    "import string\n",
    "import numpy as np\n",
    "import seaborn as sns\n",
    "import matplotlib.pyplot as plt\n",
    "\n",
    "import tensorflow as tf\n",
    "# import tensorflow_hub as tf_hub\n",
    "\n",
    "from nltk.tokenize import word_tokenize\n",
    "from sklearn.model_selection import train_test_split\n",
    "from sklearn.feature_extraction.text import CountVectorizer"
   ]
  },
  {
   "cell_type": "markdown",
   "metadata": {},
   "source": [
    "----\n",
    "----"
   ]
  },
  {
   "cell_type": "markdown",
   "metadata": {},
   "source": [
    "<vspace>"
   ]
  },
  {
   "cell_type": "markdown",
   "metadata": {},
   "source": [
    "### ***Load Data***"
   ]
  },
  {
   "cell_type": "markdown",
   "metadata": {},
   "source": [
    "----"
   ]
  },
  {
   "cell_type": "code",
   "execution_count": 2,
   "metadata": {},
   "outputs": [
    {
     "data": {
      "text/html": [
       "<div>\n",
       "<style scoped>\n",
       "    .dataframe tbody tr th:only-of-type {\n",
       "        vertical-align: middle;\n",
       "    }\n",
       "\n",
       "    .dataframe tbody tr th {\n",
       "        vertical-align: top;\n",
       "    }\n",
       "\n",
       "    .dataframe thead th {\n",
       "        text-align: right;\n",
       "    }\n",
       "</style>\n",
       "<table border=\"1\" class=\"dataframe\">\n",
       "  <thead>\n",
       "    <tr style=\"text-align: right;\">\n",
       "      <th></th>\n",
       "      <th>question</th>\n",
       "    </tr>\n",
       "  </thead>\n",
       "  <tbody>\n",
       "    <tr>\n",
       "      <th>0</th>\n",
       "      <td>Forza horizon 5 bsa om .bsa skalian di install?</td>\n",
       "    </tr>\n",
       "    <tr>\n",
       "      <th>1</th>\n",
       "      <td>gan itu pc only udah sama dalemannya?</td>\n",
       "    </tr>\n",
       "    <tr>\n",
       "      <th>2</th>\n",
       "      <td>gan, bisa maenin game EA FC 24 dan call of dut...</td>\n",
       "    </tr>\n",
       "    <tr>\n",
       "      <th>3</th>\n",
       "      <td>gan ini kalo buat pb atau gta 5 bisa</td>\n",
       "    </tr>\n",
       "    <tr>\n",
       "      <th>4</th>\n",
       "      <td>Bisa installin ets2 dan gta roleplay?? Sisanya...</td>\n",
       "    </tr>\n",
       "    <tr>\n",
       "      <th>...</th>\n",
       "      <td>...</td>\n",
       "    </tr>\n",
       "    <tr>\n",
       "      <th>1553</th>\n",
       "      <td>gan kalo di pake game microsoft flight simulat...</td>\n",
       "    </tr>\n",
       "    <tr>\n",
       "      <th>1554</th>\n",
       "      <td>Min minecraft berapa fps tolong ya min mau bel...</td>\n",
       "    </tr>\n",
       "    <tr>\n",
       "      <th>1555</th>\n",
       "      <td>Min untuk hardisk-nya kalau diubah ke 1TB apa ...</td>\n",
       "    </tr>\n",
       "    <tr>\n",
       "      <th>1556</th>\n",
       "      <td>kalo ada yg mau di ubah bisa min?</td>\n",
       "    </tr>\n",
       "    <tr>\n",
       "      <th>1557</th>\n",
       "      <td>Ini ready gan?</td>\n",
       "    </tr>\n",
       "  </tbody>\n",
       "</table>\n",
       "<p>1558 rows × 1 columns</p>\n",
       "</div>"
      ],
      "text/plain": [
       "                                               question\n",
       "0       Forza horizon 5 bsa om .bsa skalian di install?\n",
       "1                 gan itu pc only udah sama dalemannya?\n",
       "2     gan, bisa maenin game EA FC 24 dan call of dut...\n",
       "3                  gan ini kalo buat pb atau gta 5 bisa\n",
       "4     Bisa installin ets2 dan gta roleplay?? Sisanya...\n",
       "...                                                 ...\n",
       "1553  gan kalo di pake game microsoft flight simulat...\n",
       "1554  Min minecraft berapa fps tolong ya min mau bel...\n",
       "1555  Min untuk hardisk-nya kalau diubah ke 1TB apa ...\n",
       "1556                  kalo ada yg mau di ubah bisa min?\n",
       "1557                                     Ini ready gan?\n",
       "\n",
       "[1558 rows x 1 columns]"
      ]
     },
     "execution_count": 2,
     "metadata": {},
     "output_type": "execute_result"
    }
   ],
   "source": [
    "df = pd.read_csv(\"question1.csv\")\n",
    "df"
   ]
  },
  {
   "cell_type": "code",
   "execution_count": 3,
   "metadata": {},
   "outputs": [
    {
     "data": {
      "text/plain": [
       "166"
      ]
     },
     "execution_count": 3,
     "metadata": {},
     "output_type": "execute_result"
    }
   ],
   "source": [
    "df.duplicated().sum()"
   ]
  },
  {
   "cell_type": "code",
   "execution_count": 4,
   "metadata": {},
   "outputs": [
    {
     "data": {
      "text/html": [
       "<div>\n",
       "<style scoped>\n",
       "    .dataframe tbody tr th:only-of-type {\n",
       "        vertical-align: middle;\n",
       "    }\n",
       "\n",
       "    .dataframe tbody tr th {\n",
       "        vertical-align: top;\n",
       "    }\n",
       "\n",
       "    .dataframe thead th {\n",
       "        text-align: right;\n",
       "    }\n",
       "</style>\n",
       "<table border=\"1\" class=\"dataframe\">\n",
       "  <thead>\n",
       "    <tr style=\"text-align: right;\">\n",
       "      <th></th>\n",
       "      <th>question</th>\n",
       "    </tr>\n",
       "  </thead>\n",
       "  <tbody>\n",
       "    <tr>\n",
       "      <th>0</th>\n",
       "      <td>Forza horizon 5 bsa om .bsa skalian di install?</td>\n",
       "    </tr>\n",
       "    <tr>\n",
       "      <th>1</th>\n",
       "      <td>gan itu pc only udah sama dalemannya?</td>\n",
       "    </tr>\n",
       "    <tr>\n",
       "      <th>2</th>\n",
       "      <td>gan, bisa maenin game EA FC 24 dan call of dut...</td>\n",
       "    </tr>\n",
       "    <tr>\n",
       "      <th>3</th>\n",
       "      <td>gan ini kalo buat pb atau gta 5 bisa</td>\n",
       "    </tr>\n",
       "    <tr>\n",
       "      <th>4</th>\n",
       "      <td>Bisa installin ets2 dan gta roleplay?? Sisanya...</td>\n",
       "    </tr>\n",
       "    <tr>\n",
       "      <th>...</th>\n",
       "      <td>...</td>\n",
       "    </tr>\n",
       "    <tr>\n",
       "      <th>1387</th>\n",
       "      <td>gan kalo di pake game microsoft flight simulat...</td>\n",
       "    </tr>\n",
       "    <tr>\n",
       "      <th>1388</th>\n",
       "      <td>Min minecraft berapa fps tolong ya min mau bel...</td>\n",
       "    </tr>\n",
       "    <tr>\n",
       "      <th>1389</th>\n",
       "      <td>Min untuk hardisk-nya kalau diubah ke 1TB apa ...</td>\n",
       "    </tr>\n",
       "    <tr>\n",
       "      <th>1390</th>\n",
       "      <td>kalo ada yg mau di ubah bisa min?</td>\n",
       "    </tr>\n",
       "    <tr>\n",
       "      <th>1391</th>\n",
       "      <td>Ini ready gan?</td>\n",
       "    </tr>\n",
       "  </tbody>\n",
       "</table>\n",
       "<p>1392 rows × 1 columns</p>\n",
       "</div>"
      ],
      "text/plain": [
       "                                               question\n",
       "0       Forza horizon 5 bsa om .bsa skalian di install?\n",
       "1                 gan itu pc only udah sama dalemannya?\n",
       "2     gan, bisa maenin game EA FC 24 dan call of dut...\n",
       "3                  gan ini kalo buat pb atau gta 5 bisa\n",
       "4     Bisa installin ets2 dan gta roleplay?? Sisanya...\n",
       "...                                                 ...\n",
       "1387  gan kalo di pake game microsoft flight simulat...\n",
       "1388  Min minecraft berapa fps tolong ya min mau bel...\n",
       "1389  Min untuk hardisk-nya kalau diubah ke 1TB apa ...\n",
       "1390                  kalo ada yg mau di ubah bisa min?\n",
       "1391                                     Ini ready gan?\n",
       "\n",
       "[1392 rows x 1 columns]"
      ]
     },
     "execution_count": 4,
     "metadata": {},
     "output_type": "execute_result"
    }
   ],
   "source": [
    "df = df.drop_duplicates(ignore_index=True)\n",
    "df"
   ]
  },
  {
   "cell_type": "markdown",
   "metadata": {},
   "source": [
    "----\n",
    "----"
   ]
  },
  {
   "cell_type": "markdown",
   "metadata": {},
   "source": [
    "<vspace>"
   ]
  },
  {
   "cell_type": "markdown",
   "metadata": {},
   "source": [
    "### ***Preprocessing Data***"
   ]
  },
  {
   "cell_type": "markdown",
   "metadata": {},
   "source": [
    "----"
   ]
  },
  {
   "cell_type": "markdown",
   "metadata": {},
   "source": [
    "<vspace>"
   ]
  },
  {
   "cell_type": "markdown",
   "metadata": {},
   "source": [
    "#### ***Remove unnecessary characters***"
   ]
  },
  {
   "cell_type": "markdown",
   "metadata": {},
   "source": [
    "----"
   ]
  },
  {
   "cell_type": "code",
   "execution_count": 5,
   "metadata": {},
   "outputs": [],
   "source": [
    "def clean(txt):\n",
    "    txt = txt.str.replace(\"()\", \"\")\n",
    "    txt = txt.str.replace('(<a).*(>).*()', '')\n",
    "    txt = txt.str.replace('(&amp)', '')\n",
    "    txt = txt.str.replace('(&gt)', '')\n",
    "    txt = txt.str.replace('(&lt)', '')\n",
    "    txt = txt.str.replace('(\\xa0)', ' ')\n",
    "    txt = txt.str.replace('?','')\n",
    "    txt = txt.str.replace('.','')\n",
    "    txt = txt.str.replace('[^\\w\\s]', '')\n",
    "    txt = txt.str.replace('\"', '')\n",
    "    txt = txt.str.replace('\\d+', '')\n",
    "    return txt"
   ]
  },
  {
   "cell_type": "code",
   "execution_count": 6,
   "metadata": {},
   "outputs": [
    {
     "name": "stderr",
     "output_type": "stream",
     "text": [
      "C:\\Users\\Richard E.V\\AppData\\Local\\Temp\\ipykernel_18996\\2955709065.py:1: SettingWithCopyWarning: \n",
      "A value is trying to be set on a copy of a slice from a DataFrame.\n",
      "Try using .loc[row_indexer,col_indexer] = value instead\n",
      "\n",
      "See the caveats in the documentation: https://pandas.pydata.org/pandas-docs/stable/user_guide/indexing.html#returning-a-view-versus-a-copy\n",
      "  df['question'] = clean(df['question'])\n"
     ]
    },
    {
     "data": {
      "text/html": [
       "<div>\n",
       "<style scoped>\n",
       "    .dataframe tbody tr th:only-of-type {\n",
       "        vertical-align: middle;\n",
       "    }\n",
       "\n",
       "    .dataframe tbody tr th {\n",
       "        vertical-align: top;\n",
       "    }\n",
       "\n",
       "    .dataframe thead th {\n",
       "        text-align: right;\n",
       "    }\n",
       "</style>\n",
       "<table border=\"1\" class=\"dataframe\">\n",
       "  <thead>\n",
       "    <tr style=\"text-align: right;\">\n",
       "      <th></th>\n",
       "      <th>question</th>\n",
       "    </tr>\n",
       "  </thead>\n",
       "  <tbody>\n",
       "    <tr>\n",
       "      <th>0</th>\n",
       "      <td>Forza horizon 5 bsa om bsa skalian di install</td>\n",
       "    </tr>\n",
       "    <tr>\n",
       "      <th>1</th>\n",
       "      <td>gan itu pc only udah sama dalemannya</td>\n",
       "    </tr>\n",
       "    <tr>\n",
       "      <th>2</th>\n",
       "      <td>gan, bisa maenin game EA FC 24 dan call of dut...</td>\n",
       "    </tr>\n",
       "    <tr>\n",
       "      <th>3</th>\n",
       "      <td>gan ini kalo buat pb atau gta 5 bisa</td>\n",
       "    </tr>\n",
       "    <tr>\n",
       "      <th>4</th>\n",
       "      <td>Bisa installin ets2 dan gta roleplay Sisanya k...</td>\n",
       "    </tr>\n",
       "    <tr>\n",
       "      <th>...</th>\n",
       "      <td>...</td>\n",
       "    </tr>\n",
       "    <tr>\n",
       "      <th>1387</th>\n",
       "      <td>gan kalo di pake game microsoft flight simulat...</td>\n",
       "    </tr>\n",
       "    <tr>\n",
       "      <th>1388</th>\n",
       "      <td>Min minecraft berapa fps tolong ya min mau bel...</td>\n",
       "    </tr>\n",
       "    <tr>\n",
       "      <th>1389</th>\n",
       "      <td>Min untuk hardisk-nya kalau diubah ke 1TB apa ...</td>\n",
       "    </tr>\n",
       "    <tr>\n",
       "      <th>1390</th>\n",
       "      <td>kalo ada yg mau di ubah bisa min</td>\n",
       "    </tr>\n",
       "    <tr>\n",
       "      <th>1391</th>\n",
       "      <td>Ini ready gan</td>\n",
       "    </tr>\n",
       "  </tbody>\n",
       "</table>\n",
       "<p>1392 rows × 1 columns</p>\n",
       "</div>"
      ],
      "text/plain": [
       "                                               question\n",
       "0         Forza horizon 5 bsa om bsa skalian di install\n",
       "1                  gan itu pc only udah sama dalemannya\n",
       "2     gan, bisa maenin game EA FC 24 dan call of dut...\n",
       "3                  gan ini kalo buat pb atau gta 5 bisa\n",
       "4     Bisa installin ets2 dan gta roleplay Sisanya k...\n",
       "...                                                 ...\n",
       "1387  gan kalo di pake game microsoft flight simulat...\n",
       "1388  Min minecraft berapa fps tolong ya min mau bel...\n",
       "1389  Min untuk hardisk-nya kalau diubah ke 1TB apa ...\n",
       "1390                   kalo ada yg mau di ubah bisa min\n",
       "1391                                      Ini ready gan\n",
       "\n",
       "[1392 rows x 1 columns]"
      ]
     },
     "execution_count": 6,
     "metadata": {},
     "output_type": "execute_result"
    }
   ],
   "source": [
    "df['question'] = clean(df['question'])\n",
    "df"
   ]
  },
  {
   "cell_type": "markdown",
   "metadata": {},
   "source": [
    "<vspace>"
   ]
  },
  {
   "cell_type": "markdown",
   "metadata": {},
   "source": [
    "#### ***Change letters to lowercase***"
   ]
  },
  {
   "cell_type": "markdown",
   "metadata": {},
   "source": [
    "-----"
   ]
  },
  {
   "cell_type": "code",
   "execution_count": 7,
   "metadata": {},
   "outputs": [
    {
     "name": "stderr",
     "output_type": "stream",
     "text": [
      "C:\\Users\\Richard E.V\\AppData\\Local\\Temp\\ipykernel_18996\\2300042323.py:1: SettingWithCopyWarning: \n",
      "A value is trying to be set on a copy of a slice from a DataFrame.\n",
      "Try using .loc[row_indexer,col_indexer] = value instead\n",
      "\n",
      "See the caveats in the documentation: https://pandas.pydata.org/pandas-docs/stable/user_guide/indexing.html#returning-a-view-versus-a-copy\n",
      "  df['question'] = df['question'].apply(lambda x: \" \".join(x.lower() for x in x.split()))\n"
     ]
    },
    {
     "data": {
      "text/html": [
       "<div>\n",
       "<style scoped>\n",
       "    .dataframe tbody tr th:only-of-type {\n",
       "        vertical-align: middle;\n",
       "    }\n",
       "\n",
       "    .dataframe tbody tr th {\n",
       "        vertical-align: top;\n",
       "    }\n",
       "\n",
       "    .dataframe thead th {\n",
       "        text-align: right;\n",
       "    }\n",
       "</style>\n",
       "<table border=\"1\" class=\"dataframe\">\n",
       "  <thead>\n",
       "    <tr style=\"text-align: right;\">\n",
       "      <th></th>\n",
       "      <th>question</th>\n",
       "    </tr>\n",
       "  </thead>\n",
       "  <tbody>\n",
       "    <tr>\n",
       "      <th>0</th>\n",
       "      <td>forza horizon 5 bsa om bsa skalian di install</td>\n",
       "    </tr>\n",
       "    <tr>\n",
       "      <th>1</th>\n",
       "      <td>gan itu pc only udah sama dalemannya</td>\n",
       "    </tr>\n",
       "    <tr>\n",
       "      <th>2</th>\n",
       "      <td>gan, bisa maenin game ea fc 24 dan call of dut...</td>\n",
       "    </tr>\n",
       "    <tr>\n",
       "      <th>3</th>\n",
       "      <td>gan ini kalo buat pb atau gta 5 bisa</td>\n",
       "    </tr>\n",
       "    <tr>\n",
       "      <th>4</th>\n",
       "      <td>bisa installin ets2 dan gta roleplay sisanya k...</td>\n",
       "    </tr>\n",
       "    <tr>\n",
       "      <th>...</th>\n",
       "      <td>...</td>\n",
       "    </tr>\n",
       "    <tr>\n",
       "      <th>1387</th>\n",
       "      <td>gan kalo di pake game microsoft flight simulat...</td>\n",
       "    </tr>\n",
       "    <tr>\n",
       "      <th>1388</th>\n",
       "      <td>min minecraft berapa fps tolong ya min mau bel...</td>\n",
       "    </tr>\n",
       "    <tr>\n",
       "      <th>1389</th>\n",
       "      <td>min untuk hardisk-nya kalau diubah ke 1tb apa ...</td>\n",
       "    </tr>\n",
       "    <tr>\n",
       "      <th>1390</th>\n",
       "      <td>kalo ada yg mau di ubah bisa min</td>\n",
       "    </tr>\n",
       "    <tr>\n",
       "      <th>1391</th>\n",
       "      <td>ini ready gan</td>\n",
       "    </tr>\n",
       "  </tbody>\n",
       "</table>\n",
       "<p>1392 rows × 1 columns</p>\n",
       "</div>"
      ],
      "text/plain": [
       "                                               question\n",
       "0         forza horizon 5 bsa om bsa skalian di install\n",
       "1                  gan itu pc only udah sama dalemannya\n",
       "2     gan, bisa maenin game ea fc 24 dan call of dut...\n",
       "3                  gan ini kalo buat pb atau gta 5 bisa\n",
       "4     bisa installin ets2 dan gta roleplay sisanya k...\n",
       "...                                                 ...\n",
       "1387  gan kalo di pake game microsoft flight simulat...\n",
       "1388  min minecraft berapa fps tolong ya min mau bel...\n",
       "1389  min untuk hardisk-nya kalau diubah ke 1tb apa ...\n",
       "1390                   kalo ada yg mau di ubah bisa min\n",
       "1391                                      ini ready gan\n",
       "\n",
       "[1392 rows x 1 columns]"
      ]
     },
     "execution_count": 7,
     "metadata": {},
     "output_type": "execute_result"
    }
   ],
   "source": [
    "df['question'] = df['question'].apply(lambda x: \" \".join(x.lower() for x in x.split()))\n",
    "df"
   ]
  },
  {
   "cell_type": "markdown",
   "metadata": {},
   "source": [
    "<vspace>"
   ]
  },
  {
   "cell_type": "markdown",
   "metadata": {},
   "source": [
    "#### ***Discarding Connecting Words***"
   ]
  },
  {
   "cell_type": "markdown",
   "metadata": {},
   "source": [
    "----"
   ]
  },
  {
   "cell_type": "code",
   "execution_count": 8,
   "metadata": {},
   "outputs": [
    {
     "name": "stderr",
     "output_type": "stream",
     "text": [
      "C:\\Users\\Richard E.V\\AppData\\Local\\Temp\\ipykernel_18996\\77370435.py:1: SettingWithCopyWarning: \n",
      "A value is trying to be set on a copy of a slice from a DataFrame.\n",
      "Try using .loc[row_indexer,col_indexer] = value instead\n",
      "\n",
      "See the caveats in the documentation: https://pandas.pydata.org/pandas-docs/stable/user_guide/indexing.html#returning-a-view-versus-a-copy\n",
      "  df['question'] = df['question'].str.replace(r'\\b(?:dan|atau|tetapi|kenapa|tapi|yang|kok|hanya|yg|sekali|cenderung|sangat|meskipun|nya|lah|ya|sih|dah|malah|ato|nya|se)\\b', '', regex=True)\n"
     ]
    },
    {
     "data": {
      "text/html": [
       "<div>\n",
       "<style scoped>\n",
       "    .dataframe tbody tr th:only-of-type {\n",
       "        vertical-align: middle;\n",
       "    }\n",
       "\n",
       "    .dataframe tbody tr th {\n",
       "        vertical-align: top;\n",
       "    }\n",
       "\n",
       "    .dataframe thead th {\n",
       "        text-align: right;\n",
       "    }\n",
       "</style>\n",
       "<table border=\"1\" class=\"dataframe\">\n",
       "  <thead>\n",
       "    <tr style=\"text-align: right;\">\n",
       "      <th></th>\n",
       "      <th>question</th>\n",
       "    </tr>\n",
       "  </thead>\n",
       "  <tbody>\n",
       "    <tr>\n",
       "      <th>0</th>\n",
       "      <td>forza horizon 5 bsa om bsa skalian di install</td>\n",
       "    </tr>\n",
       "    <tr>\n",
       "      <th>1</th>\n",
       "      <td>gan itu pc only udah sama dalemannya</td>\n",
       "    </tr>\n",
       "    <tr>\n",
       "      <th>2</th>\n",
       "      <td>gan, bisa maenin game ea fc 24  call of duty m...</td>\n",
       "    </tr>\n",
       "    <tr>\n",
       "      <th>3</th>\n",
       "      <td>gan ini kalo buat pb  gta 5 bisa</td>\n",
       "    </tr>\n",
       "    <tr>\n",
       "      <th>4</th>\n",
       "      <td>bisa installin ets2  gta roleplay sisanya kosong</td>\n",
       "    </tr>\n",
       "    <tr>\n",
       "      <th>...</th>\n",
       "      <td>...</td>\n",
       "    </tr>\n",
       "    <tr>\n",
       "      <th>1387</th>\n",
       "      <td>gan kalo di pake game microsoft flight simulat...</td>\n",
       "    </tr>\n",
       "    <tr>\n",
       "      <th>1388</th>\n",
       "      <td>min minecraft berapa fps tolong  min mau beli ...</td>\n",
       "    </tr>\n",
       "    <tr>\n",
       "      <th>1389</th>\n",
       "      <td>min untuk hardisk- kalau diubah ke 1tb apa per...</td>\n",
       "    </tr>\n",
       "    <tr>\n",
       "      <th>1390</th>\n",
       "      <td>kalo ada  mau di ubah bisa min</td>\n",
       "    </tr>\n",
       "    <tr>\n",
       "      <th>1391</th>\n",
       "      <td>ini ready gan</td>\n",
       "    </tr>\n",
       "  </tbody>\n",
       "</table>\n",
       "<p>1392 rows × 1 columns</p>\n",
       "</div>"
      ],
      "text/plain": [
       "                                               question\n",
       "0         forza horizon 5 bsa om bsa skalian di install\n",
       "1                  gan itu pc only udah sama dalemannya\n",
       "2     gan, bisa maenin game ea fc 24  call of duty m...\n",
       "3                      gan ini kalo buat pb  gta 5 bisa\n",
       "4      bisa installin ets2  gta roleplay sisanya kosong\n",
       "...                                                 ...\n",
       "1387  gan kalo di pake game microsoft flight simulat...\n",
       "1388  min minecraft berapa fps tolong  min mau beli ...\n",
       "1389  min untuk hardisk- kalau diubah ke 1tb apa per...\n",
       "1390                     kalo ada  mau di ubah bisa min\n",
       "1391                                      ini ready gan\n",
       "\n",
       "[1392 rows x 1 columns]"
      ]
     },
     "metadata": {},
     "output_type": "display_data"
    }
   ],
   "source": [
    "df['question'] = df['question'].str.replace(r'\\b(?:dan|atau|tetapi|kenapa|tapi|yang|kok|hanya|yg|sekali|cenderung|sangat|meskipun|nya|lah|ya|sih|dah|malah|ato|nya|se)\\b', '', regex=True)\n",
    "display(df)"
   ]
  },
  {
   "cell_type": "markdown",
   "metadata": {},
   "source": [
    "<vspace>"
   ]
  },
  {
   "cell_type": "markdown",
   "metadata": {},
   "source": [
    "#### ***Tokenisasi***"
   ]
  },
  {
   "cell_type": "markdown",
   "metadata": {},
   "source": [
    "----"
   ]
  },
  {
   "cell_type": "code",
   "execution_count": 9,
   "metadata": {},
   "outputs": [
    {
     "name": "stderr",
     "output_type": "stream",
     "text": [
      "C:\\Users\\Richard E.V\\AppData\\Local\\Temp\\ipykernel_18996\\4233663637.py:9: SettingWithCopyWarning: \n",
      "A value is trying to be set on a copy of a slice from a DataFrame.\n",
      "Try using .loc[row_indexer,col_indexer] = value instead\n",
      "\n",
      "See the caveats in the documentation: https://pandas.pydata.org/pandas-docs/stable/user_guide/indexing.html#returning-a-view-versus-a-copy\n",
      "  df['question_tokens'] = df['question'].apply(word_token_default)\n"
     ]
    }
   ],
   "source": [
    "# Define the tokenization function\n",
    "def word_token_default(doc):\n",
    "    if isinstance(doc, str):\n",
    "        return doc.split()\n",
    "    else:\n",
    "        return []\n",
    "\n",
    "# Apply the tokenization function to the 'question' column\n",
    "df['question_tokens'] = df['question'].apply(word_token_default)"
   ]
  },
  {
   "cell_type": "code",
   "execution_count": 27,
   "metadata": {},
   "outputs": [
    {
     "data": {
      "text/plain": [
       "0       [forza, horizon, 5, bisa, om, bisa,  sekalian,...\n",
       "1           [gan, itu, pc, only, sudah, sama, dalemannya]\n",
       "2       [gan,, bisa, maenin, game, iya, fc, 24, call, ...\n",
       "3              [gan, ini,  kalau, buat, pb, gta, 5, bisa]\n",
       "4       [bisa, installin, ets2, gta, roleplay, sisanya...\n",
       "                              ...                        \n",
       "1387    [gan,  kalau, di, pakai, game, microsoft, flig...\n",
       "1388    [min, minecraft, berapa, fps, tolong, min, mau...\n",
       "1389    [min, untuk, hardisk-, kalau, diubah, ke, 1tb,...\n",
       "1390              [ kalau, ada, mau, di, ubah, bisa, min]\n",
       "1391                                    [ini, ready, gan]\n",
       "Name: question_tokens, Length: 1392, dtype: object"
      ]
     },
     "execution_count": 27,
     "metadata": {},
     "output_type": "execute_result"
    }
   ],
   "source": [
    "df['question_tokens']"
   ]
  },
  {
   "cell_type": "markdown",
   "metadata": {},
   "source": [
    "<vspace>"
   ]
  },
  {
   "cell_type": "markdown",
   "metadata": {},
   "source": [
    "----\n",
    "----"
   ]
  },
  {
   "cell_type": "markdown",
   "metadata": {},
   "source": [
    "#### ***Change Slang Word into Normal***"
   ]
  },
  {
   "cell_type": "code",
   "execution_count": 10,
   "metadata": {},
   "outputs": [],
   "source": [
    "slang = pd.read_csv(\"Slang2.csv\")"
   ]
  },
  {
   "cell_type": "code",
   "execution_count": 11,
   "metadata": {},
   "outputs": [
    {
     "data": {
      "text/html": [
       "<div>\n",
       "<style scoped>\n",
       "    .dataframe tbody tr th:only-of-type {\n",
       "        vertical-align: middle;\n",
       "    }\n",
       "\n",
       "    .dataframe tbody tr th {\n",
       "        vertical-align: top;\n",
       "    }\n",
       "\n",
       "    .dataframe thead th {\n",
       "        text-align: right;\n",
       "    }\n",
       "</style>\n",
       "<table border=\"1\" class=\"dataframe\">\n",
       "  <thead>\n",
       "    <tr style=\"text-align: right;\">\n",
       "      <th></th>\n",
       "      <th>slang</th>\n",
       "      <th>formal</th>\n",
       "    </tr>\n",
       "  </thead>\n",
       "  <tbody>\n",
       "    <tr>\n",
       "      <th>0</th>\n",
       "      <td>woww</td>\n",
       "      <td>wow</td>\n",
       "    </tr>\n",
       "    <tr>\n",
       "      <th>1</th>\n",
       "      <td>aminn</td>\n",
       "      <td>amin</td>\n",
       "    </tr>\n",
       "    <tr>\n",
       "      <th>2</th>\n",
       "      <td>met</td>\n",
       "      <td>selamat</td>\n",
       "    </tr>\n",
       "    <tr>\n",
       "      <th>3</th>\n",
       "      <td>netaas</td>\n",
       "      <td>menetas</td>\n",
       "    </tr>\n",
       "    <tr>\n",
       "      <th>4</th>\n",
       "      <td>keberpa</td>\n",
       "      <td>keberapa</td>\n",
       "    </tr>\n",
       "    <tr>\n",
       "      <th>...</th>\n",
       "      <td>...</td>\n",
       "      <td>...</td>\n",
       "    </tr>\n",
       "    <tr>\n",
       "      <th>4255</th>\n",
       "      <td>baguss</td>\n",
       "      <td>baik</td>\n",
       "    </tr>\n",
       "    <tr>\n",
       "      <th>4256</th>\n",
       "      <td>utk</td>\n",
       "      <td>untuk</td>\n",
       "    </tr>\n",
       "    <tr>\n",
       "      <th>4257</th>\n",
       "      <td>skalian</td>\n",
       "      <td>sekalian</td>\n",
       "    </tr>\n",
       "    <tr>\n",
       "      <th>4258</th>\n",
       "      <td>proxessor</td>\n",
       "      <td>processor</td>\n",
       "    </tr>\n",
       "    <tr>\n",
       "      <th>4259</th>\n",
       "      <td>kalo</td>\n",
       "      <td>kalau</td>\n",
       "    </tr>\n",
       "  </tbody>\n",
       "</table>\n",
       "<p>4260 rows × 2 columns</p>\n",
       "</div>"
      ],
      "text/plain": [
       "          slang      formal\n",
       "0          woww         wow\n",
       "1         aminn        amin\n",
       "2           met     selamat\n",
       "3        netaas     menetas\n",
       "4       keberpa    keberapa\n",
       "...         ...         ...\n",
       "4255     baguss        baik\n",
       "4256        utk       untuk\n",
       "4257    skalian    sekalian\n",
       "4258  proxessor   processor\n",
       "4259       kalo       kalau\n",
       "\n",
       "[4260 rows x 2 columns]"
      ]
     },
     "execution_count": 11,
     "metadata": {},
     "output_type": "execute_result"
    }
   ],
   "source": [
    "slang"
   ]
  },
  {
   "cell_type": "code",
   "execution_count": 12,
   "metadata": {},
   "outputs": [
    {
     "name": "stderr",
     "output_type": "stream",
     "text": [
      "C:\\Users\\Richard E.V\\AppData\\Local\\Temp\\ipykernel_18996\\1774770020.py:9: SettingWithCopyWarning: \n",
      "A value is trying to be set on a copy of a slice from a DataFrame.\n",
      "Try using .loc[row_indexer,col_indexer] = value instead\n",
      "\n",
      "See the caveats in the documentation: https://pandas.pydata.org/pandas-docs/stable/user_guide/indexing.html#returning-a-view-versus-a-copy\n",
      "  df['question_tokens'] = df['question_tokens'].apply(lambda tokens: replace_slang(tokens, slang))\n"
     ]
    }
   ],
   "source": [
    "def replace_slang(tokens, slang):\n",
    "    # Create a dictionary from the slang DataFrame for faster lookups\n",
    "    slang_dict = dict(zip(slang['slang'], slang['formal']))\n",
    "    \n",
    "    # Replace each token if it matches a slang term\n",
    "    return [slang_dict.get(token, token) for token in tokens]\n",
    "\n",
    "# Apply the slang replacement function to the 'question_tokens' column\n",
    "df['question_tokens'] = df['question_tokens'].apply(lambda tokens: replace_slang(tokens, slang))"
   ]
  },
  {
   "cell_type": "code",
   "execution_count": 13,
   "metadata": {},
   "outputs": [
    {
     "data": {
      "text/plain": [
       "0       [forza, horizon, 5, bisa, om, bisa,  sekalian,...\n",
       "1           [gan, itu, pc, only, sudah, sama, dalemannya]\n",
       "2       [gan,, bisa, maenin, game, iya, fc, 24, call, ...\n",
       "3              [gan, ini,  kalau, buat, pb, gta, 5, bisa]\n",
       "4       [bisa, installin, ets2, gta, roleplay, sisanya...\n",
       "                              ...                        \n",
       "1387    [gan,  kalau, di, pakai, game, microsoft, flig...\n",
       "1388    [min, minecraft, berapa, fps, tolong, min, mau...\n",
       "1389    [min, untuk, hardisk-, kalau, diubah, ke, 1tb,...\n",
       "1390              [ kalau, ada, mau, di, ubah, bisa, min]\n",
       "1391                                    [ini, ready, gan]\n",
       "Name: question_tokens, Length: 1392, dtype: object"
      ]
     },
     "execution_count": 13,
     "metadata": {},
     "output_type": "execute_result"
    }
   ],
   "source": [
    "df['question_tokens']"
   ]
  },
  {
   "cell_type": "markdown",
   "metadata": {},
   "source": [
    "----"
   ]
  },
  {
   "cell_type": "markdown",
   "metadata": {},
   "source": [
    "<b>"
   ]
  },
  {
   "cell_type": "markdown",
   "metadata": {},
   "source": [
    "#### ***Filtering with NLTK***"
   ]
  },
  {
   "cell_type": "markdown",
   "metadata": {},
   "source": [
    "----"
   ]
  },
  {
   "cell_type": "markdown",
   "metadata": {},
   "source": [
    "#### ***Stemming***"
   ]
  },
  {
   "cell_type": "markdown",
   "metadata": {},
   "source": [
    "----"
   ]
  },
  {
   "cell_type": "code",
   "execution_count": 23,
   "metadata": {},
   "outputs": [],
   "source": [
    "from Sastrawi.Stemmer.StemmerFactory import StemmerFactory\n",
    "from Sastrawi.StopWordRemover.StopWordRemoverFactory import StopWordRemoverFactory\n",
    "\n",
    "stopword_factory = StopWordRemoverFactory()\n",
    "stopword = stopword_factory.create_stop_word_remover()\n",
    "\n",
    "factory = StemmerFactory()\n",
    "stemmer = factory.create_stemmer()\n",
    "\n"
   ]
  }
 ],
 "metadata": {
  "kernelspec": {
   "display_name": "base",
   "language": "python",
   "name": "python3"
  },
  "language_info": {
   "codemirror_mode": {
    "name": "ipython",
    "version": 3
   },
   "file_extension": ".py",
   "mimetype": "text/x-python",
   "name": "python",
   "nbconvert_exporter": "python",
   "pygments_lexer": "ipython3",
   "version": "3.11.7"
  }
 },
 "nbformat": 4,
 "nbformat_minor": 2
}
