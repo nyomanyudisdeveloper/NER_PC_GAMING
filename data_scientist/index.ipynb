{
 "cells": [
  {
   "cell_type": "markdown",
   "metadata": {},
   "source": [
    "### ***1.Import Libraries***"
   ]
  },
  {
   "cell_type": "markdown",
   "metadata": {},
   "source": [
    "----"
   ]
  },
  {
   "cell_type": "code",
   "execution_count": 1,
   "metadata": {},
   "outputs": [],
   "source": [
    "import pandas as pd\n",
    "import nltk\n",
    "import re\n",
    "# Import Libraries\n",
    "import string\n",
    "import numpy as np\n",
    "import seaborn as sns\n",
    "import matplotlib.pyplot as plt\n",
    "\n",
    "import tensorflow as tf\n",
    "# import tensorflow_hub as tf_hub\n",
    "\n",
    "from nltk.tokenize import word_tokenize\n",
    "from sklearn.model_selection import train_test_split\n",
    "from sklearn.feature_extraction.text import CountVectorizer\n",
    "import math\n",
    "\n",
    "from Sastrawi.StopWordRemover.StopWordRemoverFactory import StopWordRemoverFactory"
   ]
  },
  {
   "cell_type": "markdown",
   "metadata": {},
   "source": [
    "----\n",
    "----"
   ]
  },
  {
   "cell_type": "markdown",
   "metadata": {},
   "source": [
    "<vspace>"
   ]
  },
  {
   "cell_type": "markdown",
   "metadata": {},
   "source": [
    "### ***2.Load Data***"
   ]
  },
  {
   "cell_type": "markdown",
   "metadata": {},
   "source": [
    "----"
   ]
  },
  {
   "cell_type": "code",
   "execution_count": 2,
   "metadata": {},
   "outputs": [
    {
     "data": {
      "text/html": [
       "<div>\n",
       "<style scoped>\n",
       "    .dataframe tbody tr th:only-of-type {\n",
       "        vertical-align: middle;\n",
       "    }\n",
       "\n",
       "    .dataframe tbody tr th {\n",
       "        vertical-align: top;\n",
       "    }\n",
       "\n",
       "    .dataframe thead th {\n",
       "        text-align: right;\n",
       "    }\n",
       "</style>\n",
       "<table border=\"1\" class=\"dataframe\">\n",
       "  <thead>\n",
       "    <tr style=\"text-align: right;\">\n",
       "      <th></th>\n",
       "      <th>question</th>\n",
       "    </tr>\n",
       "  </thead>\n",
       "  <tbody>\n",
       "    <tr>\n",
       "      <th>0</th>\n",
       "      <td>Forza horizon 5 bsa om .bsa skalian di install?</td>\n",
       "    </tr>\n",
       "    <tr>\n",
       "      <th>1</th>\n",
       "      <td>gan itu pc only udah sama dalemannya?</td>\n",
       "    </tr>\n",
       "    <tr>\n",
       "      <th>2</th>\n",
       "      <td>gan, bisa maenin game EA FC 24 dan call of dut...</td>\n",
       "    </tr>\n",
       "    <tr>\n",
       "      <th>3</th>\n",
       "      <td>gan ini kalo buat pb atau gta 5 bisa</td>\n",
       "    </tr>\n",
       "    <tr>\n",
       "      <th>4</th>\n",
       "      <td>Bisa installin ets2 dan gta roleplay?? Sisanya...</td>\n",
       "    </tr>\n",
       "    <tr>\n",
       "      <th>...</th>\n",
       "      <td>...</td>\n",
       "    </tr>\n",
       "    <tr>\n",
       "      <th>1553</th>\n",
       "      <td>gan kalo di pake game microsoft flight simulat...</td>\n",
       "    </tr>\n",
       "    <tr>\n",
       "      <th>1554</th>\n",
       "      <td>Min minecraft berapa fps tolong ya min mau bel...</td>\n",
       "    </tr>\n",
       "    <tr>\n",
       "      <th>1555</th>\n",
       "      <td>Min untuk hardisk-nya kalau diubah ke 1TB apa ...</td>\n",
       "    </tr>\n",
       "    <tr>\n",
       "      <th>1556</th>\n",
       "      <td>kalo ada yg mau di ubah bisa min?</td>\n",
       "    </tr>\n",
       "    <tr>\n",
       "      <th>1557</th>\n",
       "      <td>Ini ready gan?</td>\n",
       "    </tr>\n",
       "  </tbody>\n",
       "</table>\n",
       "<p>1558 rows × 1 columns</p>\n",
       "</div>"
      ],
      "text/plain": [
       "                                               question\n",
       "0       Forza horizon 5 bsa om .bsa skalian di install?\n",
       "1                 gan itu pc only udah sama dalemannya?\n",
       "2     gan, bisa maenin game EA FC 24 dan call of dut...\n",
       "3                  gan ini kalo buat pb atau gta 5 bisa\n",
       "4     Bisa installin ets2 dan gta roleplay?? Sisanya...\n",
       "...                                                 ...\n",
       "1553  gan kalo di pake game microsoft flight simulat...\n",
       "1554  Min minecraft berapa fps tolong ya min mau bel...\n",
       "1555  Min untuk hardisk-nya kalau diubah ke 1TB apa ...\n",
       "1556                  kalo ada yg mau di ubah bisa min?\n",
       "1557                                     Ini ready gan?\n",
       "\n",
       "[1558 rows x 1 columns]"
      ]
     },
     "execution_count": 2,
     "metadata": {},
     "output_type": "execute_result"
    }
   ],
   "source": [
    "# load data from file question.csv\n",
    "df = pd.read_csv(\"../dataset/question.csv\")\n",
    "df"
   ]
  },
  {
   "cell_type": "markdown",
   "metadata": {},
   "source": [
    "#### ***2.1 Handling Data Duplicate***"
   ]
  },
  {
   "cell_type": "code",
   "execution_count": 3,
   "metadata": {},
   "outputs": [
    {
     "data": {
      "text/plain": [
       "166"
      ]
     },
     "execution_count": 3,
     "metadata": {},
     "output_type": "execute_result"
    }
   ],
   "source": [
    "# Check data duplicated\n",
    "df.duplicated().sum()"
   ]
  },
  {
   "cell_type": "code",
   "execution_count": 4,
   "metadata": {},
   "outputs": [],
   "source": [
    "# Remove data duplicate\n",
    "df = df.drop_duplicates(ignore_index=True)"
   ]
  },
  {
   "cell_type": "code",
   "execution_count": 5,
   "metadata": {},
   "outputs": [
    {
     "data": {
      "text/plain": [
       "0"
      ]
     },
     "execution_count": 5,
     "metadata": {},
     "output_type": "execute_result"
    }
   ],
   "source": [
    "df.duplicated().sum()"
   ]
  },
  {
   "cell_type": "markdown",
   "metadata": {},
   "source": [
    "#### ***2.2 Handling Missing Value***"
   ]
  },
  {
   "cell_type": "code",
   "execution_count": 6,
   "metadata": {},
   "outputs": [
    {
     "data": {
      "text/plain": [
       "question    0\n",
       "dtype: int64"
      ]
     },
     "execution_count": 6,
     "metadata": {},
     "output_type": "execute_result"
    }
   ],
   "source": [
    "# Check Missing Value\n",
    "df.isnull().sum()"
   ]
  },
  {
   "cell_type": "markdown",
   "metadata": {},
   "source": [
    "----\n",
    "----"
   ]
  },
  {
   "cell_type": "markdown",
   "metadata": {},
   "source": [
    "<vspace>"
   ]
  },
  {
   "cell_type": "markdown",
   "metadata": {},
   "source": [
    "### ***3.Preprocessing Data***"
   ]
  },
  {
   "cell_type": "markdown",
   "metadata": {},
   "source": [
    "----"
   ]
  },
  {
   "cell_type": "markdown",
   "metadata": {},
   "source": [
    "<vspace>"
   ]
  },
  {
   "cell_type": "markdown",
   "metadata": {},
   "source": [
    "#### ***3.1 Remove unnecessary characters (Only alphabetic and numeric remaining)***"
   ]
  },
  {
   "cell_type": "code",
   "execution_count": 7,
   "metadata": {},
   "outputs": [
    {
     "data": {
      "text/html": [
       "<div>\n",
       "<style scoped>\n",
       "    .dataframe tbody tr th:only-of-type {\n",
       "        vertical-align: middle;\n",
       "    }\n",
       "\n",
       "    .dataframe tbody tr th {\n",
       "        vertical-align: top;\n",
       "    }\n",
       "\n",
       "    .dataframe thead th {\n",
       "        text-align: right;\n",
       "    }\n",
       "</style>\n",
       "<table border=\"1\" class=\"dataframe\">\n",
       "  <thead>\n",
       "    <tr style=\"text-align: right;\">\n",
       "      <th></th>\n",
       "      <th>question</th>\n",
       "    </tr>\n",
       "  </thead>\n",
       "  <tbody>\n",
       "    <tr>\n",
       "      <th>0</th>\n",
       "      <td>Forza horizon 5 bsa om .bsa skalian di install?</td>\n",
       "    </tr>\n",
       "    <tr>\n",
       "      <th>1</th>\n",
       "      <td>gan itu pc only udah sama dalemannya?</td>\n",
       "    </tr>\n",
       "    <tr>\n",
       "      <th>2</th>\n",
       "      <td>gan, bisa maenin game EA FC 24 dan call of dut...</td>\n",
       "    </tr>\n",
       "    <tr>\n",
       "      <th>3</th>\n",
       "      <td>gan ini kalo buat pb atau gta 5 bisa</td>\n",
       "    </tr>\n",
       "    <tr>\n",
       "      <th>4</th>\n",
       "      <td>Bisa installin ets2 dan gta roleplay?? Sisanya...</td>\n",
       "    </tr>\n",
       "    <tr>\n",
       "      <th>...</th>\n",
       "      <td>...</td>\n",
       "    </tr>\n",
       "    <tr>\n",
       "      <th>1387</th>\n",
       "      <td>gan kalo di pake game microsoft flight simulat...</td>\n",
       "    </tr>\n",
       "    <tr>\n",
       "      <th>1388</th>\n",
       "      <td>Min minecraft berapa fps tolong ya min mau bel...</td>\n",
       "    </tr>\n",
       "    <tr>\n",
       "      <th>1389</th>\n",
       "      <td>Min untuk hardisk-nya kalau diubah ke 1TB apa ...</td>\n",
       "    </tr>\n",
       "    <tr>\n",
       "      <th>1390</th>\n",
       "      <td>kalo ada yg mau di ubah bisa min?</td>\n",
       "    </tr>\n",
       "    <tr>\n",
       "      <th>1391</th>\n",
       "      <td>Ini ready gan?</td>\n",
       "    </tr>\n",
       "  </tbody>\n",
       "</table>\n",
       "<p>1392 rows × 1 columns</p>\n",
       "</div>"
      ],
      "text/plain": [
       "                                               question\n",
       "0       Forza horizon 5 bsa om .bsa skalian di install?\n",
       "1                 gan itu pc only udah sama dalemannya?\n",
       "2     gan, bisa maenin game EA FC 24 dan call of dut...\n",
       "3                  gan ini kalo buat pb atau gta 5 bisa\n",
       "4     Bisa installin ets2 dan gta roleplay?? Sisanya...\n",
       "...                                                 ...\n",
       "1387  gan kalo di pake game microsoft flight simulat...\n",
       "1388  Min minecraft berapa fps tolong ya min mau bel...\n",
       "1389  Min untuk hardisk-nya kalau diubah ke 1TB apa ...\n",
       "1390                  kalo ada yg mau di ubah bisa min?\n",
       "1391                                     Ini ready gan?\n",
       "\n",
       "[1392 rows x 1 columns]"
      ]
     },
     "execution_count": 7,
     "metadata": {},
     "output_type": "execute_result"
    }
   ],
   "source": [
    "df"
   ]
  },
  {
   "cell_type": "code",
   "execution_count": 8,
   "metadata": {},
   "outputs": [
    {
     "name": "stderr",
     "output_type": "stream",
     "text": [
      "/var/folders/cr/8g19f6x13sn907v0ff4vkmm80000gn/T/ipykernel_4756/983728561.py:7: SettingWithCopyWarning: \n",
      "A value is trying to be set on a copy of a slice from a DataFrame.\n",
      "Try using .loc[row_indexer,col_indexer] = value instead\n",
      "\n",
      "See the caveats in the documentation: https://pandas.pydata.org/pandas-docs/stable/user_guide/indexing.html#returning-a-view-versus-a-copy\n",
      "  df['question_after_preprocessing'] = df['question'].apply(clean_special_character)\n"
     ]
    }
   ],
   "source": [
    "def clean_special_character(text):\n",
    "    result = \"\";\n",
    "    for char in text:\n",
    "        if char == \" \" or char.isalnum():\n",
    "            result+= char\n",
    "    return result\n",
    "df['question_after_preprocessing'] = df['question'].apply(clean_special_character)"
   ]
  },
  {
   "cell_type": "code",
   "execution_count": 9,
   "metadata": {},
   "outputs": [
    {
     "data": {
      "text/html": [
       "<div>\n",
       "<style scoped>\n",
       "    .dataframe tbody tr th:only-of-type {\n",
       "        vertical-align: middle;\n",
       "    }\n",
       "\n",
       "    .dataframe tbody tr th {\n",
       "        vertical-align: top;\n",
       "    }\n",
       "\n",
       "    .dataframe thead th {\n",
       "        text-align: right;\n",
       "    }\n",
       "</style>\n",
       "<table border=\"1\" class=\"dataframe\">\n",
       "  <thead>\n",
       "    <tr style=\"text-align: right;\">\n",
       "      <th></th>\n",
       "      <th>question</th>\n",
       "      <th>question_after_preprocessing</th>\n",
       "    </tr>\n",
       "  </thead>\n",
       "  <tbody>\n",
       "    <tr>\n",
       "      <th>0</th>\n",
       "      <td>Forza horizon 5 bsa om .bsa skalian di install?</td>\n",
       "      <td>Forza horizon 5 bsa om bsa skalian di install</td>\n",
       "    </tr>\n",
       "    <tr>\n",
       "      <th>1</th>\n",
       "      <td>gan itu pc only udah sama dalemannya?</td>\n",
       "      <td>gan itu pc only udah sama dalemannya</td>\n",
       "    </tr>\n",
       "    <tr>\n",
       "      <th>2</th>\n",
       "      <td>gan, bisa maenin game EA FC 24 dan call of dut...</td>\n",
       "      <td>gan bisa maenin game EA FC 24 dan call of duty...</td>\n",
       "    </tr>\n",
       "    <tr>\n",
       "      <th>3</th>\n",
       "      <td>gan ini kalo buat pb atau gta 5 bisa</td>\n",
       "      <td>gan ini kalo buat pb atau gta 5 bisa</td>\n",
       "    </tr>\n",
       "    <tr>\n",
       "      <th>4</th>\n",
       "      <td>Bisa installin ets2 dan gta roleplay?? Sisanya...</td>\n",
       "      <td>Bisa installin ets2 dan gta roleplay Sisanya k...</td>\n",
       "    </tr>\n",
       "  </tbody>\n",
       "</table>\n",
       "</div>"
      ],
      "text/plain": [
       "                                            question  \\\n",
       "0    Forza horizon 5 bsa om .bsa skalian di install?   \n",
       "1              gan itu pc only udah sama dalemannya?   \n",
       "2  gan, bisa maenin game EA FC 24 dan call of dut...   \n",
       "3               gan ini kalo buat pb atau gta 5 bisa   \n",
       "4  Bisa installin ets2 dan gta roleplay?? Sisanya...   \n",
       "\n",
       "                        question_after_preprocessing  \n",
       "0      Forza horizon 5 bsa om bsa skalian di install  \n",
       "1               gan itu pc only udah sama dalemannya  \n",
       "2  gan bisa maenin game EA FC 24 dan call of duty...  \n",
       "3               gan ini kalo buat pb atau gta 5 bisa  \n",
       "4  Bisa installin ets2 dan gta roleplay Sisanya k...  "
      ]
     },
     "execution_count": 9,
     "metadata": {},
     "output_type": "execute_result"
    }
   ],
   "source": [
    "df.head()"
   ]
  },
  {
   "cell_type": "markdown",
   "metadata": {},
   "source": [
    "<vspace>"
   ]
  },
  {
   "cell_type": "markdown",
   "metadata": {},
   "source": [
    "#### ***3.2 Change letters to lowercase***"
   ]
  },
  {
   "cell_type": "markdown",
   "metadata": {},
   "source": [
    "-----"
   ]
  },
  {
   "cell_type": "code",
   "execution_count": 10,
   "metadata": {},
   "outputs": [
    {
     "data": {
      "text/html": [
       "<div>\n",
       "<style scoped>\n",
       "    .dataframe tbody tr th:only-of-type {\n",
       "        vertical-align: middle;\n",
       "    }\n",
       "\n",
       "    .dataframe tbody tr th {\n",
       "        vertical-align: top;\n",
       "    }\n",
       "\n",
       "    .dataframe thead th {\n",
       "        text-align: right;\n",
       "    }\n",
       "</style>\n",
       "<table border=\"1\" class=\"dataframe\">\n",
       "  <thead>\n",
       "    <tr style=\"text-align: right;\">\n",
       "      <th></th>\n",
       "      <th>question</th>\n",
       "      <th>question_after_preprocessing</th>\n",
       "    </tr>\n",
       "  </thead>\n",
       "  <tbody>\n",
       "    <tr>\n",
       "      <th>0</th>\n",
       "      <td>Forza horizon 5 bsa om .bsa skalian di install?</td>\n",
       "      <td>Forza horizon 5 bsa om bsa skalian di install</td>\n",
       "    </tr>\n",
       "    <tr>\n",
       "      <th>1</th>\n",
       "      <td>gan itu pc only udah sama dalemannya?</td>\n",
       "      <td>gan itu pc only udah sama dalemannya</td>\n",
       "    </tr>\n",
       "    <tr>\n",
       "      <th>2</th>\n",
       "      <td>gan, bisa maenin game EA FC 24 dan call of dut...</td>\n",
       "      <td>gan bisa maenin game EA FC 24 dan call of duty...</td>\n",
       "    </tr>\n",
       "    <tr>\n",
       "      <th>3</th>\n",
       "      <td>gan ini kalo buat pb atau gta 5 bisa</td>\n",
       "      <td>gan ini kalo buat pb atau gta 5 bisa</td>\n",
       "    </tr>\n",
       "    <tr>\n",
       "      <th>4</th>\n",
       "      <td>Bisa installin ets2 dan gta roleplay?? Sisanya...</td>\n",
       "      <td>Bisa installin ets2 dan gta roleplay Sisanya k...</td>\n",
       "    </tr>\n",
       "  </tbody>\n",
       "</table>\n",
       "</div>"
      ],
      "text/plain": [
       "                                            question  \\\n",
       "0    Forza horizon 5 bsa om .bsa skalian di install?   \n",
       "1              gan itu pc only udah sama dalemannya?   \n",
       "2  gan, bisa maenin game EA FC 24 dan call of dut...   \n",
       "3               gan ini kalo buat pb atau gta 5 bisa   \n",
       "4  Bisa installin ets2 dan gta roleplay?? Sisanya...   \n",
       "\n",
       "                        question_after_preprocessing  \n",
       "0      Forza horizon 5 bsa om bsa skalian di install  \n",
       "1               gan itu pc only udah sama dalemannya  \n",
       "2  gan bisa maenin game EA FC 24 dan call of duty...  \n",
       "3               gan ini kalo buat pb atau gta 5 bisa  \n",
       "4  Bisa installin ets2 dan gta roleplay Sisanya k...  "
      ]
     },
     "execution_count": 10,
     "metadata": {},
     "output_type": "execute_result"
    }
   ],
   "source": [
    "df.head()"
   ]
  },
  {
   "cell_type": "code",
   "execution_count": 11,
   "metadata": {},
   "outputs": [
    {
     "name": "stderr",
     "output_type": "stream",
     "text": [
      "/var/folders/cr/8g19f6x13sn907v0ff4vkmm80000gn/T/ipykernel_4756/2619501283.py:1: SettingWithCopyWarning: \n",
      "A value is trying to be set on a copy of a slice from a DataFrame.\n",
      "Try using .loc[row_indexer,col_indexer] = value instead\n",
      "\n",
      "See the caveats in the documentation: https://pandas.pydata.org/pandas-docs/stable/user_guide/indexing.html#returning-a-view-versus-a-copy\n",
      "  df['question_after_preprocessing'] = df['question_after_preprocessing'].apply(lambda x: \" \".join(x.lower() for x in x.split()))\n"
     ]
    },
    {
     "data": {
      "text/html": [
       "<div>\n",
       "<style scoped>\n",
       "    .dataframe tbody tr th:only-of-type {\n",
       "        vertical-align: middle;\n",
       "    }\n",
       "\n",
       "    .dataframe tbody tr th {\n",
       "        vertical-align: top;\n",
       "    }\n",
       "\n",
       "    .dataframe thead th {\n",
       "        text-align: right;\n",
       "    }\n",
       "</style>\n",
       "<table border=\"1\" class=\"dataframe\">\n",
       "  <thead>\n",
       "    <tr style=\"text-align: right;\">\n",
       "      <th></th>\n",
       "      <th>question</th>\n",
       "      <th>question_after_preprocessing</th>\n",
       "    </tr>\n",
       "  </thead>\n",
       "  <tbody>\n",
       "    <tr>\n",
       "      <th>0</th>\n",
       "      <td>Forza horizon 5 bsa om .bsa skalian di install?</td>\n",
       "      <td>forza horizon 5 bsa om bsa skalian di install</td>\n",
       "    </tr>\n",
       "    <tr>\n",
       "      <th>1</th>\n",
       "      <td>gan itu pc only udah sama dalemannya?</td>\n",
       "      <td>gan itu pc only udah sama dalemannya</td>\n",
       "    </tr>\n",
       "    <tr>\n",
       "      <th>2</th>\n",
       "      <td>gan, bisa maenin game EA FC 24 dan call of dut...</td>\n",
       "      <td>gan bisa maenin game ea fc 24 dan call of duty...</td>\n",
       "    </tr>\n",
       "    <tr>\n",
       "      <th>3</th>\n",
       "      <td>gan ini kalo buat pb atau gta 5 bisa</td>\n",
       "      <td>gan ini kalo buat pb atau gta 5 bisa</td>\n",
       "    </tr>\n",
       "    <tr>\n",
       "      <th>4</th>\n",
       "      <td>Bisa installin ets2 dan gta roleplay?? Sisanya...</td>\n",
       "      <td>bisa installin ets2 dan gta roleplay sisanya k...</td>\n",
       "    </tr>\n",
       "    <tr>\n",
       "      <th>...</th>\n",
       "      <td>...</td>\n",
       "      <td>...</td>\n",
       "    </tr>\n",
       "    <tr>\n",
       "      <th>1387</th>\n",
       "      <td>gan kalo di pake game microsoft flight simulat...</td>\n",
       "      <td>gan kalo di pake game microsoft flight simulat...</td>\n",
       "    </tr>\n",
       "    <tr>\n",
       "      <th>1388</th>\n",
       "      <td>Min minecraft berapa fps tolong ya min mau bel...</td>\n",
       "      <td>min minecraft berapa fps tolong ya min mau bel...</td>\n",
       "    </tr>\n",
       "    <tr>\n",
       "      <th>1389</th>\n",
       "      <td>Min untuk hardisk-nya kalau diubah ke 1TB apa ...</td>\n",
       "      <td>min untuk hardisknya kalau diubah ke 1tb apa p...</td>\n",
       "    </tr>\n",
       "    <tr>\n",
       "      <th>1390</th>\n",
       "      <td>kalo ada yg mau di ubah bisa min?</td>\n",
       "      <td>kalo ada yg mau di ubah bisa min</td>\n",
       "    </tr>\n",
       "    <tr>\n",
       "      <th>1391</th>\n",
       "      <td>Ini ready gan?</td>\n",
       "      <td>ini ready gan</td>\n",
       "    </tr>\n",
       "  </tbody>\n",
       "</table>\n",
       "<p>1392 rows × 2 columns</p>\n",
       "</div>"
      ],
      "text/plain": [
       "                                               question  \\\n",
       "0       Forza horizon 5 bsa om .bsa skalian di install?   \n",
       "1                 gan itu pc only udah sama dalemannya?   \n",
       "2     gan, bisa maenin game EA FC 24 dan call of dut...   \n",
       "3                  gan ini kalo buat pb atau gta 5 bisa   \n",
       "4     Bisa installin ets2 dan gta roleplay?? Sisanya...   \n",
       "...                                                 ...   \n",
       "1387  gan kalo di pake game microsoft flight simulat...   \n",
       "1388  Min minecraft berapa fps tolong ya min mau bel...   \n",
       "1389  Min untuk hardisk-nya kalau diubah ke 1TB apa ...   \n",
       "1390                  kalo ada yg mau di ubah bisa min?   \n",
       "1391                                     Ini ready gan?   \n",
       "\n",
       "                           question_after_preprocessing  \n",
       "0         forza horizon 5 bsa om bsa skalian di install  \n",
       "1                  gan itu pc only udah sama dalemannya  \n",
       "2     gan bisa maenin game ea fc 24 dan call of duty...  \n",
       "3                  gan ini kalo buat pb atau gta 5 bisa  \n",
       "4     bisa installin ets2 dan gta roleplay sisanya k...  \n",
       "...                                                 ...  \n",
       "1387  gan kalo di pake game microsoft flight simulat...  \n",
       "1388  min minecraft berapa fps tolong ya min mau bel...  \n",
       "1389  min untuk hardisknya kalau diubah ke 1tb apa p...  \n",
       "1390                   kalo ada yg mau di ubah bisa min  \n",
       "1391                                      ini ready gan  \n",
       "\n",
       "[1392 rows x 2 columns]"
      ]
     },
     "execution_count": 11,
     "metadata": {},
     "output_type": "execute_result"
    }
   ],
   "source": [
    "df['question_after_preprocessing'] = df['question_after_preprocessing'].apply(lambda x: \" \".join(x.lower() for x in x.split()))\n",
    "df"
   ]
  },
  {
   "cell_type": "markdown",
   "metadata": {},
   "source": [
    "<vspace>"
   ]
  },
  {
   "cell_type": "markdown",
   "metadata": {},
   "source": [
    "#### ***3.3 Remove White Spaces***"
   ]
  },
  {
   "cell_type": "markdown",
   "metadata": {},
   "source": [
    "----"
   ]
  },
  {
   "cell_type": "code",
   "execution_count": 12,
   "metadata": {},
   "outputs": [
    {
     "name": "stderr",
     "output_type": "stream",
     "text": [
      "/var/folders/cr/8g19f6x13sn907v0ff4vkmm80000gn/T/ipykernel_4756/3042631290.py:1: SettingWithCopyWarning: \n",
      "A value is trying to be set on a copy of a slice from a DataFrame.\n",
      "Try using .loc[row_indexer,col_indexer] = value instead\n",
      "\n",
      "See the caveats in the documentation: https://pandas.pydata.org/pandas-docs/stable/user_guide/indexing.html#returning-a-view-versus-a-copy\n",
      "  df['question_after_preprocessing'] = df['question_after_preprocessing'].str.strip()\n"
     ]
    },
    {
     "data": {
      "text/html": [
       "<div>\n",
       "<style scoped>\n",
       "    .dataframe tbody tr th:only-of-type {\n",
       "        vertical-align: middle;\n",
       "    }\n",
       "\n",
       "    .dataframe tbody tr th {\n",
       "        vertical-align: top;\n",
       "    }\n",
       "\n",
       "    .dataframe thead th {\n",
       "        text-align: right;\n",
       "    }\n",
       "</style>\n",
       "<table border=\"1\" class=\"dataframe\">\n",
       "  <thead>\n",
       "    <tr style=\"text-align: right;\">\n",
       "      <th></th>\n",
       "      <th>question</th>\n",
       "      <th>question_after_preprocessing</th>\n",
       "    </tr>\n",
       "  </thead>\n",
       "  <tbody>\n",
       "    <tr>\n",
       "      <th>0</th>\n",
       "      <td>Forza horizon 5 bsa om .bsa skalian di install?</td>\n",
       "      <td>forza horizon 5 bsa om bsa skalian di install</td>\n",
       "    </tr>\n",
       "    <tr>\n",
       "      <th>1</th>\n",
       "      <td>gan itu pc only udah sama dalemannya?</td>\n",
       "      <td>gan itu pc only udah sama dalemannya</td>\n",
       "    </tr>\n",
       "    <tr>\n",
       "      <th>2</th>\n",
       "      <td>gan, bisa maenin game EA FC 24 dan call of dut...</td>\n",
       "      <td>gan bisa maenin game ea fc 24 dan call of duty...</td>\n",
       "    </tr>\n",
       "    <tr>\n",
       "      <th>3</th>\n",
       "      <td>gan ini kalo buat pb atau gta 5 bisa</td>\n",
       "      <td>gan ini kalo buat pb atau gta 5 bisa</td>\n",
       "    </tr>\n",
       "    <tr>\n",
       "      <th>4</th>\n",
       "      <td>Bisa installin ets2 dan gta roleplay?? Sisanya...</td>\n",
       "      <td>bisa installin ets2 dan gta roleplay sisanya k...</td>\n",
       "    </tr>\n",
       "    <tr>\n",
       "      <th>...</th>\n",
       "      <td>...</td>\n",
       "      <td>...</td>\n",
       "    </tr>\n",
       "    <tr>\n",
       "      <th>1387</th>\n",
       "      <td>gan kalo di pake game microsoft flight simulat...</td>\n",
       "      <td>gan kalo di pake game microsoft flight simulat...</td>\n",
       "    </tr>\n",
       "    <tr>\n",
       "      <th>1388</th>\n",
       "      <td>Min minecraft berapa fps tolong ya min mau bel...</td>\n",
       "      <td>min minecraft berapa fps tolong ya min mau bel...</td>\n",
       "    </tr>\n",
       "    <tr>\n",
       "      <th>1389</th>\n",
       "      <td>Min untuk hardisk-nya kalau diubah ke 1TB apa ...</td>\n",
       "      <td>min untuk hardisknya kalau diubah ke 1tb apa p...</td>\n",
       "    </tr>\n",
       "    <tr>\n",
       "      <th>1390</th>\n",
       "      <td>kalo ada yg mau di ubah bisa min?</td>\n",
       "      <td>kalo ada yg mau di ubah bisa min</td>\n",
       "    </tr>\n",
       "    <tr>\n",
       "      <th>1391</th>\n",
       "      <td>Ini ready gan?</td>\n",
       "      <td>ini ready gan</td>\n",
       "    </tr>\n",
       "  </tbody>\n",
       "</table>\n",
       "<p>1392 rows × 2 columns</p>\n",
       "</div>"
      ],
      "text/plain": [
       "                                               question  \\\n",
       "0       Forza horizon 5 bsa om .bsa skalian di install?   \n",
       "1                 gan itu pc only udah sama dalemannya?   \n",
       "2     gan, bisa maenin game EA FC 24 dan call of dut...   \n",
       "3                  gan ini kalo buat pb atau gta 5 bisa   \n",
       "4     Bisa installin ets2 dan gta roleplay?? Sisanya...   \n",
       "...                                                 ...   \n",
       "1387  gan kalo di pake game microsoft flight simulat...   \n",
       "1388  Min minecraft berapa fps tolong ya min mau bel...   \n",
       "1389  Min untuk hardisk-nya kalau diubah ke 1TB apa ...   \n",
       "1390                  kalo ada yg mau di ubah bisa min?   \n",
       "1391                                     Ini ready gan?   \n",
       "\n",
       "                           question_after_preprocessing  \n",
       "0         forza horizon 5 bsa om bsa skalian di install  \n",
       "1                  gan itu pc only udah sama dalemannya  \n",
       "2     gan bisa maenin game ea fc 24 dan call of duty...  \n",
       "3                  gan ini kalo buat pb atau gta 5 bisa  \n",
       "4     bisa installin ets2 dan gta roleplay sisanya k...  \n",
       "...                                                 ...  \n",
       "1387  gan kalo di pake game microsoft flight simulat...  \n",
       "1388  min minecraft berapa fps tolong ya min mau bel...  \n",
       "1389  min untuk hardisknya kalau diubah ke 1tb apa p...  \n",
       "1390                   kalo ada yg mau di ubah bisa min  \n",
       "1391                                      ini ready gan  \n",
       "\n",
       "[1392 rows x 2 columns]"
      ]
     },
     "execution_count": 12,
     "metadata": {},
     "output_type": "execute_result"
    }
   ],
   "source": [
    "df['question_after_preprocessing'] = df['question_after_preprocessing'].str.strip()\n",
    "df"
   ]
  },
  {
   "cell_type": "markdown",
   "metadata": {},
   "source": [
    "<vspace>"
   ]
  },
  {
   "cell_type": "markdown",
   "metadata": {},
   "source": [
    "#### ***3.4 Tokenisasi***"
   ]
  },
  {
   "cell_type": "markdown",
   "metadata": {},
   "source": [
    "----"
   ]
  },
  {
   "cell_type": "code",
   "execution_count": 13,
   "metadata": {},
   "outputs": [
    {
     "name": "stderr",
     "output_type": "stream",
     "text": [
      "/var/folders/cr/8g19f6x13sn907v0ff4vkmm80000gn/T/ipykernel_4756/2126749328.py:9: SettingWithCopyWarning: \n",
      "A value is trying to be set on a copy of a slice from a DataFrame.\n",
      "Try using .loc[row_indexer,col_indexer] = value instead\n",
      "\n",
      "See the caveats in the documentation: https://pandas.pydata.org/pandas-docs/stable/user_guide/indexing.html#returning-a-view-versus-a-copy\n",
      "  df['question_tokens'] = df['question_after_preprocessing'].apply(word_token_default)\n"
     ]
    }
   ],
   "source": [
    "# Define the tokenization function\n",
    "def word_token_default(doc):\n",
    "    if isinstance(doc, str):\n",
    "        return doc.split()\n",
    "    else:\n",
    "        return []\n",
    "\n",
    "# Apply the tokenization function to the 'question' column\n",
    "df['question_tokens'] = df['question_after_preprocessing'].apply(word_token_default)"
   ]
  },
  {
   "cell_type": "code",
   "execution_count": 14,
   "metadata": {},
   "outputs": [
    {
     "data": {
      "text/html": [
       "<div>\n",
       "<style scoped>\n",
       "    .dataframe tbody tr th:only-of-type {\n",
       "        vertical-align: middle;\n",
       "    }\n",
       "\n",
       "    .dataframe tbody tr th {\n",
       "        vertical-align: top;\n",
       "    }\n",
       "\n",
       "    .dataframe thead th {\n",
       "        text-align: right;\n",
       "    }\n",
       "</style>\n",
       "<table border=\"1\" class=\"dataframe\">\n",
       "  <thead>\n",
       "    <tr style=\"text-align: right;\">\n",
       "      <th></th>\n",
       "      <th>question</th>\n",
       "      <th>question_after_preprocessing</th>\n",
       "      <th>question_tokens</th>\n",
       "    </tr>\n",
       "  </thead>\n",
       "  <tbody>\n",
       "    <tr>\n",
       "      <th>0</th>\n",
       "      <td>Forza horizon 5 bsa om .bsa skalian di install?</td>\n",
       "      <td>forza horizon 5 bsa om bsa skalian di install</td>\n",
       "      <td>[forza, horizon, 5, bsa, om, bsa, skalian, di,...</td>\n",
       "    </tr>\n",
       "    <tr>\n",
       "      <th>1</th>\n",
       "      <td>gan itu pc only udah sama dalemannya?</td>\n",
       "      <td>gan itu pc only udah sama dalemannya</td>\n",
       "      <td>[gan, itu, pc, only, udah, sama, dalemannya]</td>\n",
       "    </tr>\n",
       "    <tr>\n",
       "      <th>2</th>\n",
       "      <td>gan, bisa maenin game EA FC 24 dan call of dut...</td>\n",
       "      <td>gan bisa maenin game ea fc 24 dan call of duty...</td>\n",
       "      <td>[gan, bisa, maenin, game, ea, fc, 24, dan, cal...</td>\n",
       "    </tr>\n",
       "    <tr>\n",
       "      <th>3</th>\n",
       "      <td>gan ini kalo buat pb atau gta 5 bisa</td>\n",
       "      <td>gan ini kalo buat pb atau gta 5 bisa</td>\n",
       "      <td>[gan, ini, kalo, buat, pb, atau, gta, 5, bisa]</td>\n",
       "    </tr>\n",
       "    <tr>\n",
       "      <th>4</th>\n",
       "      <td>Bisa installin ets2 dan gta roleplay?? Sisanya...</td>\n",
       "      <td>bisa installin ets2 dan gta roleplay sisanya k...</td>\n",
       "      <td>[bisa, installin, ets2, dan, gta, roleplay, si...</td>\n",
       "    </tr>\n",
       "  </tbody>\n",
       "</table>\n",
       "</div>"
      ],
      "text/plain": [
       "                                            question  \\\n",
       "0    Forza horizon 5 bsa om .bsa skalian di install?   \n",
       "1              gan itu pc only udah sama dalemannya?   \n",
       "2  gan, bisa maenin game EA FC 24 dan call of dut...   \n",
       "3               gan ini kalo buat pb atau gta 5 bisa   \n",
       "4  Bisa installin ets2 dan gta roleplay?? Sisanya...   \n",
       "\n",
       "                        question_after_preprocessing  \\\n",
       "0      forza horizon 5 bsa om bsa skalian di install   \n",
       "1               gan itu pc only udah sama dalemannya   \n",
       "2  gan bisa maenin game ea fc 24 dan call of duty...   \n",
       "3               gan ini kalo buat pb atau gta 5 bisa   \n",
       "4  bisa installin ets2 dan gta roleplay sisanya k...   \n",
       "\n",
       "                                     question_tokens  \n",
       "0  [forza, horizon, 5, bsa, om, bsa, skalian, di,...  \n",
       "1       [gan, itu, pc, only, udah, sama, dalemannya]  \n",
       "2  [gan, bisa, maenin, game, ea, fc, 24, dan, cal...  \n",
       "3     [gan, ini, kalo, buat, pb, atau, gta, 5, bisa]  \n",
       "4  [bisa, installin, ets2, dan, gta, roleplay, si...  "
      ]
     },
     "execution_count": 14,
     "metadata": {},
     "output_type": "execute_result"
    }
   ],
   "source": [
    "df.head()"
   ]
  },
  {
   "cell_type": "markdown",
   "metadata": {},
   "source": [
    "#### ***3.5 Remove redundant character in word***"
   ]
  },
  {
   "cell_type": "code",
   "execution_count": 15,
   "metadata": {},
   "outputs": [
    {
     "data": {
      "text/plain": [
       "0       [forza, horizon, 5, bsa, om, bsa, skalian, di,...\n",
       "1            [gan, itu, pc, only, udah, sama, dalemannya]\n",
       "2       [gan, bisa, maenin, game, ea, fc, 24, dan, cal...\n",
       "3          [gan, ini, kalo, buat, pb, atau, gta, 5, bisa]\n",
       "4       [bisa, installin, ets2, dan, gta, roleplay, si...\n",
       "                              ...                        \n",
       "1387    [gan, kalo, di, pake, game, microsoft, flight,...\n",
       "1388    [min, minecraft, berapa, fps, tolong, ya, min,...\n",
       "1389    [min, untuk, hardisknya, kalau, diubah, ke, 1t...\n",
       "1390            [kalo, ada, yg, mau, di, ubah, bisa, min]\n",
       "1391                                    [ini, ready, gan]\n",
       "Name: question_tokens, Length: 1392, dtype: object"
      ]
     },
     "execution_count": 15,
     "metadata": {},
     "output_type": "execute_result"
    }
   ],
   "source": [
    "df['question_tokens']"
   ]
  },
  {
   "cell_type": "code",
   "execution_count": 16,
   "metadata": {},
   "outputs": [
    {
     "name": "stderr",
     "output_type": "stream",
     "text": [
      "/var/folders/cr/8g19f6x13sn907v0ff4vkmm80000gn/T/ipykernel_4756/2769101441.py:13: SettingWithCopyWarning: \n",
      "A value is trying to be set on a copy of a slice from a DataFrame.\n",
      "Try using .loc[row_indexer,col_indexer] = value instead\n",
      "\n",
      "See the caveats in the documentation: https://pandas.pydata.org/pandas-docs/stable/user_guide/indexing.html#returning-a-view-versus-a-copy\n",
      "  df['question_tokens'] = df['question_tokens'].apply(remove_reduncdant_char_in_word)\n"
     ]
    },
    {
     "data": {
      "text/plain": [
       "0       [forza, horizon, 5, bsa, om, bsa, skalian, di,...\n",
       "1             [gan, itu, pc, only, udah, sama, dalemanya]\n",
       "2       [gan, bisa, maenin, game, ea, fc, 24, dan, cal...\n",
       "3          [gan, ini, kalo, buat, pb, atau, gta, 5, bisa]\n",
       "4       [bisa, instalin, ets2, dan, gta, roleplay, sis...\n",
       "                              ...                        \n",
       "1387    [gan, kalo, di, pake, game, microsoft, flight,...\n",
       "1388    [min, minecraft, berapa, fps, tolong, ya, min,...\n",
       "1389    [min, untuk, hardisknya, kalau, diubah, ke, 1t...\n",
       "1390            [kalo, ada, yg, mau, di, ubah, bisa, min]\n",
       "1391                                    [ini, ready, gan]\n",
       "Name: question_tokens, Length: 1392, dtype: object"
      ]
     },
     "execution_count": 16,
     "metadata": {},
     "output_type": "execute_result"
    }
   ],
   "source": [
    "def remove_reduncdant_char_in_word(list_word):\n",
    "    list_result = []\n",
    "    for word in list_word:\n",
    "        temp_word = \"\"\n",
    "        for index,char in enumerate(word):\n",
    "            if index == 0:\n",
    "                temp_word += char\n",
    "            elif word[index-1] != char:\n",
    "                temp_word += char\n",
    "        list_result.append(temp_word)\n",
    "    return list_result\n",
    "\n",
    "df['question_tokens'] = df['question_tokens'].apply(remove_reduncdant_char_in_word)\n",
    "df['question_tokens']"
   ]
  },
  {
   "cell_type": "markdown",
   "metadata": {},
   "source": [
    "<vspace>"
   ]
  },
  {
   "cell_type": "markdown",
   "metadata": {},
   "source": [
    "----"
   ]
  },
  {
   "cell_type": "markdown",
   "metadata": {},
   "source": [
    "#### ***3.6 Change Slang Word into Normal***"
   ]
  },
  {
   "cell_type": "code",
   "execution_count": 17,
   "metadata": {},
   "outputs": [],
   "source": [
    "slang = pd.read_csv(\"../dataset/Slang2.csv\")"
   ]
  },
  {
   "cell_type": "code",
   "execution_count": 18,
   "metadata": {},
   "outputs": [
    {
     "data": {
      "text/html": [
       "<div>\n",
       "<style scoped>\n",
       "    .dataframe tbody tr th:only-of-type {\n",
       "        vertical-align: middle;\n",
       "    }\n",
       "\n",
       "    .dataframe tbody tr th {\n",
       "        vertical-align: top;\n",
       "    }\n",
       "\n",
       "    .dataframe thead th {\n",
       "        text-align: right;\n",
       "    }\n",
       "</style>\n",
       "<table border=\"1\" class=\"dataframe\">\n",
       "  <thead>\n",
       "    <tr style=\"text-align: right;\">\n",
       "      <th></th>\n",
       "      <th>slang</th>\n",
       "      <th>formal</th>\n",
       "    </tr>\n",
       "  </thead>\n",
       "  <tbody>\n",
       "    <tr>\n",
       "      <th>0</th>\n",
       "      <td>woww</td>\n",
       "      <td>wow</td>\n",
       "    </tr>\n",
       "    <tr>\n",
       "      <th>1</th>\n",
       "      <td>aminn</td>\n",
       "      <td>amin</td>\n",
       "    </tr>\n",
       "    <tr>\n",
       "      <th>2</th>\n",
       "      <td>met</td>\n",
       "      <td>selamat</td>\n",
       "    </tr>\n",
       "    <tr>\n",
       "      <th>3</th>\n",
       "      <td>netaas</td>\n",
       "      <td>menetas</td>\n",
       "    </tr>\n",
       "    <tr>\n",
       "      <th>4</th>\n",
       "      <td>keberpa</td>\n",
       "      <td>keberapa</td>\n",
       "    </tr>\n",
       "    <tr>\n",
       "      <th>...</th>\n",
       "      <td>...</td>\n",
       "      <td>...</td>\n",
       "    </tr>\n",
       "    <tr>\n",
       "      <th>4255</th>\n",
       "      <td>baguss</td>\n",
       "      <td>baik</td>\n",
       "    </tr>\n",
       "    <tr>\n",
       "      <th>4256</th>\n",
       "      <td>utk</td>\n",
       "      <td>untuk</td>\n",
       "    </tr>\n",
       "    <tr>\n",
       "      <th>4257</th>\n",
       "      <td>skalian</td>\n",
       "      <td>sekalian</td>\n",
       "    </tr>\n",
       "    <tr>\n",
       "      <th>4258</th>\n",
       "      <td>proxessor</td>\n",
       "      <td>processor</td>\n",
       "    </tr>\n",
       "    <tr>\n",
       "      <th>4259</th>\n",
       "      <td>kalo</td>\n",
       "      <td>kalau</td>\n",
       "    </tr>\n",
       "  </tbody>\n",
       "</table>\n",
       "<p>4260 rows × 2 columns</p>\n",
       "</div>"
      ],
      "text/plain": [
       "          slang      formal\n",
       "0          woww         wow\n",
       "1         aminn        amin\n",
       "2           met     selamat\n",
       "3        netaas     menetas\n",
       "4       keberpa    keberapa\n",
       "...         ...         ...\n",
       "4255     baguss        baik\n",
       "4256        utk       untuk\n",
       "4257    skalian    sekalian\n",
       "4258  proxessor   processor\n",
       "4259       kalo       kalau\n",
       "\n",
       "[4260 rows x 2 columns]"
      ]
     },
     "execution_count": 18,
     "metadata": {},
     "output_type": "execute_result"
    }
   ],
   "source": [
    "slang"
   ]
  },
  {
   "cell_type": "code",
   "execution_count": 19,
   "metadata": {},
   "outputs": [
    {
     "data": {
      "text/html": [
       "<div>\n",
       "<style scoped>\n",
       "    .dataframe tbody tr th:only-of-type {\n",
       "        vertical-align: middle;\n",
       "    }\n",
       "\n",
       "    .dataframe tbody tr th {\n",
       "        vertical-align: top;\n",
       "    }\n",
       "\n",
       "    .dataframe thead th {\n",
       "        text-align: right;\n",
       "    }\n",
       "</style>\n",
       "<table border=\"1\" class=\"dataframe\">\n",
       "  <thead>\n",
       "    <tr style=\"text-align: right;\">\n",
       "      <th></th>\n",
       "      <th>question</th>\n",
       "      <th>question_after_preprocessing</th>\n",
       "      <th>question_tokens</th>\n",
       "    </tr>\n",
       "  </thead>\n",
       "  <tbody>\n",
       "    <tr>\n",
       "      <th>0</th>\n",
       "      <td>Forza horizon 5 bsa om .bsa skalian di install?</td>\n",
       "      <td>forza horizon 5 bsa om bsa skalian di install</td>\n",
       "      <td>[forza, horizon, 5, bsa, om, bsa, skalian, di,...</td>\n",
       "    </tr>\n",
       "    <tr>\n",
       "      <th>1</th>\n",
       "      <td>gan itu pc only udah sama dalemannya?</td>\n",
       "      <td>gan itu pc only udah sama dalemannya</td>\n",
       "      <td>[gan, itu, pc, only, udah, sama, dalemanya]</td>\n",
       "    </tr>\n",
       "    <tr>\n",
       "      <th>2</th>\n",
       "      <td>gan, bisa maenin game EA FC 24 dan call of dut...</td>\n",
       "      <td>gan bisa maenin game ea fc 24 dan call of duty...</td>\n",
       "      <td>[gan, bisa, maenin, game, ea, fc, 24, dan, cal...</td>\n",
       "    </tr>\n",
       "    <tr>\n",
       "      <th>3</th>\n",
       "      <td>gan ini kalo buat pb atau gta 5 bisa</td>\n",
       "      <td>gan ini kalo buat pb atau gta 5 bisa</td>\n",
       "      <td>[gan, ini, kalo, buat, pb, atau, gta, 5, bisa]</td>\n",
       "    </tr>\n",
       "    <tr>\n",
       "      <th>4</th>\n",
       "      <td>Bisa installin ets2 dan gta roleplay?? Sisanya...</td>\n",
       "      <td>bisa installin ets2 dan gta roleplay sisanya k...</td>\n",
       "      <td>[bisa, instalin, ets2, dan, gta, roleplay, sis...</td>\n",
       "    </tr>\n",
       "    <tr>\n",
       "      <th>...</th>\n",
       "      <td>...</td>\n",
       "      <td>...</td>\n",
       "      <td>...</td>\n",
       "    </tr>\n",
       "    <tr>\n",
       "      <th>1387</th>\n",
       "      <td>gan kalo di pake game microsoft flight simulat...</td>\n",
       "      <td>gan kalo di pake game microsoft flight simulat...</td>\n",
       "      <td>[gan, kalo, di, pake, game, microsoft, flight,...</td>\n",
       "    </tr>\n",
       "    <tr>\n",
       "      <th>1388</th>\n",
       "      <td>Min minecraft berapa fps tolong ya min mau bel...</td>\n",
       "      <td>min minecraft berapa fps tolong ya min mau bel...</td>\n",
       "      <td>[min, minecraft, berapa, fps, tolong, ya, min,...</td>\n",
       "    </tr>\n",
       "    <tr>\n",
       "      <th>1389</th>\n",
       "      <td>Min untuk hardisk-nya kalau diubah ke 1TB apa ...</td>\n",
       "      <td>min untuk hardisknya kalau diubah ke 1tb apa p...</td>\n",
       "      <td>[min, untuk, hardisknya, kalau, diubah, ke, 1t...</td>\n",
       "    </tr>\n",
       "    <tr>\n",
       "      <th>1390</th>\n",
       "      <td>kalo ada yg mau di ubah bisa min?</td>\n",
       "      <td>kalo ada yg mau di ubah bisa min</td>\n",
       "      <td>[kalo, ada, yg, mau, di, ubah, bisa, min]</td>\n",
       "    </tr>\n",
       "    <tr>\n",
       "      <th>1391</th>\n",
       "      <td>Ini ready gan?</td>\n",
       "      <td>ini ready gan</td>\n",
       "      <td>[ini, ready, gan]</td>\n",
       "    </tr>\n",
       "  </tbody>\n",
       "</table>\n",
       "<p>1392 rows × 3 columns</p>\n",
       "</div>"
      ],
      "text/plain": [
       "                                               question  \\\n",
       "0       Forza horizon 5 bsa om .bsa skalian di install?   \n",
       "1                 gan itu pc only udah sama dalemannya?   \n",
       "2     gan, bisa maenin game EA FC 24 dan call of dut...   \n",
       "3                  gan ini kalo buat pb atau gta 5 bisa   \n",
       "4     Bisa installin ets2 dan gta roleplay?? Sisanya...   \n",
       "...                                                 ...   \n",
       "1387  gan kalo di pake game microsoft flight simulat...   \n",
       "1388  Min minecraft berapa fps tolong ya min mau bel...   \n",
       "1389  Min untuk hardisk-nya kalau diubah ke 1TB apa ...   \n",
       "1390                  kalo ada yg mau di ubah bisa min?   \n",
       "1391                                     Ini ready gan?   \n",
       "\n",
       "                           question_after_preprocessing  \\\n",
       "0         forza horizon 5 bsa om bsa skalian di install   \n",
       "1                  gan itu pc only udah sama dalemannya   \n",
       "2     gan bisa maenin game ea fc 24 dan call of duty...   \n",
       "3                  gan ini kalo buat pb atau gta 5 bisa   \n",
       "4     bisa installin ets2 dan gta roleplay sisanya k...   \n",
       "...                                                 ...   \n",
       "1387  gan kalo di pake game microsoft flight simulat...   \n",
       "1388  min minecraft berapa fps tolong ya min mau bel...   \n",
       "1389  min untuk hardisknya kalau diubah ke 1tb apa p...   \n",
       "1390                   kalo ada yg mau di ubah bisa min   \n",
       "1391                                      ini ready gan   \n",
       "\n",
       "                                        question_tokens  \n",
       "0     [forza, horizon, 5, bsa, om, bsa, skalian, di,...  \n",
       "1           [gan, itu, pc, only, udah, sama, dalemanya]  \n",
       "2     [gan, bisa, maenin, game, ea, fc, 24, dan, cal...  \n",
       "3        [gan, ini, kalo, buat, pb, atau, gta, 5, bisa]  \n",
       "4     [bisa, instalin, ets2, dan, gta, roleplay, sis...  \n",
       "...                                                 ...  \n",
       "1387  [gan, kalo, di, pake, game, microsoft, flight,...  \n",
       "1388  [min, minecraft, berapa, fps, tolong, ya, min,...  \n",
       "1389  [min, untuk, hardisknya, kalau, diubah, ke, 1t...  \n",
       "1390          [kalo, ada, yg, mau, di, ubah, bisa, min]  \n",
       "1391                                  [ini, ready, gan]  \n",
       "\n",
       "[1392 rows x 3 columns]"
      ]
     },
     "execution_count": 19,
     "metadata": {},
     "output_type": "execute_result"
    }
   ],
   "source": [
    "df"
   ]
  },
  {
   "cell_type": "code",
   "execution_count": 20,
   "metadata": {},
   "outputs": [
    {
     "name": "stderr",
     "output_type": "stream",
     "text": [
      "/var/folders/cr/8g19f6x13sn907v0ff4vkmm80000gn/T/ipykernel_4756/562237091.py:23: SettingWithCopyWarning: \n",
      "A value is trying to be set on a copy of a slice from a DataFrame.\n",
      "Try using .loc[row_indexer,col_indexer] = value instead\n",
      "\n",
      "See the caveats in the documentation: https://pandas.pydata.org/pandas-docs/stable/user_guide/indexing.html#returning-a-view-versus-a-copy\n",
      "  df['question_tokens']  = df['question_tokens'].apply(lambda tokens: replace_slang(tokens))\n"
     ]
    }
   ],
   "source": [
    "def replace_slang(tokens):\n",
    "    # Create a dictionary from the slang DataFrame for faster lookups\n",
    "    slang_dict = dict(zip(slang['slang'], slang['formal']))\n",
    "    \n",
    "    # Replace each token if it matches a slang term\n",
    "    list_result = [];\n",
    "    for token in tokens:\n",
    "        steming_slang = slang_dict.get(token)\n",
    "        if steming_slang == None:\n",
    "            list_result.append(token)\n",
    "        else:\n",
    "            try:\n",
    "                if(math.isnan(steming_slang)):\n",
    "                    list_result.append(token)\n",
    "                else:\n",
    "                    list_result.append(steming_slang)\n",
    "            except:\n",
    "                list_result.append(steming_slang)\n",
    "    return list_result\n",
    "    # return [token if math.isnan(slang_dict.get(token)) else slang_dict.get(token)  for token in tokens]\n",
    "\n",
    "# Apply the slang replacement function to the 'question_tokens' column\n",
    "df['question_tokens']  = df['question_tokens'].apply(lambda tokens: replace_slang(tokens))"
   ]
  },
  {
   "cell_type": "code",
   "execution_count": 21,
   "metadata": {},
   "outputs": [
    {
     "data": {
      "text/plain": [
       "0       [forza, horizon, 5, bisa, om, bisa,  sekalian,...\n",
       "1            [gan, itu, pc, only, sudah, sama, dalemanya]\n",
       "2       [gan, bisa, maenin, game, iya, fc, 24, dan, ca...\n",
       "3        [gan, ini,  kalau, buat, pb, atau, gta, 5, bisa]\n",
       "4       [bisa, instalin, ets2, dan, gta, roleplay, sis...\n",
       "                              ...                        \n",
       "1387    [gan,  kalau, di, pakai, game, microsoft, flig...\n",
       "1388    [min, minecraft, berapa, fps, tolong, ya, min,...\n",
       "1389    [min, untuk, hardisknya, kalau, diubah, ke, 1t...\n",
       "1390        [ kalau, ada, yang, mau, di, ubah, bisa, min]\n",
       "1391                                    [ini, ready, gan]\n",
       "Name: question_tokens, Length: 1392, dtype: object"
      ]
     },
     "execution_count": 21,
     "metadata": {},
     "output_type": "execute_result"
    }
   ],
   "source": [
    "df['question_tokens']"
   ]
  },
  {
   "cell_type": "markdown",
   "metadata": {},
   "source": [
    "----"
   ]
  },
  {
   "cell_type": "markdown",
   "metadata": {},
   "source": [
    "<b>"
   ]
  },
  {
   "cell_type": "markdown",
   "metadata": {},
   "source": [
    "#### ***3.7 Stemming***"
   ]
  },
  {
   "cell_type": "markdown",
   "metadata": {},
   "source": [
    "----"
   ]
  },
  {
   "cell_type": "code",
   "execution_count": 22,
   "metadata": {},
   "outputs": [],
   "source": [
    "from Sastrawi.Stemmer.StemmerFactory import StemmerFactory\n",
    "\n",
    "factory = StemmerFactory()\n",
    "stemmer = factory.create_stemmer()\n",
    "\n"
   ]
  },
  {
   "cell_type": "code",
   "execution_count": 23,
   "metadata": {},
   "outputs": [
    {
     "data": {
      "text/html": [
       "<div>\n",
       "<style scoped>\n",
       "    .dataframe tbody tr th:only-of-type {\n",
       "        vertical-align: middle;\n",
       "    }\n",
       "\n",
       "    .dataframe tbody tr th {\n",
       "        vertical-align: top;\n",
       "    }\n",
       "\n",
       "    .dataframe thead th {\n",
       "        text-align: right;\n",
       "    }\n",
       "</style>\n",
       "<table border=\"1\" class=\"dataframe\">\n",
       "  <thead>\n",
       "    <tr style=\"text-align: right;\">\n",
       "      <th></th>\n",
       "      <th>question</th>\n",
       "      <th>question_after_preprocessing</th>\n",
       "      <th>question_tokens</th>\n",
       "    </tr>\n",
       "  </thead>\n",
       "  <tbody>\n",
       "    <tr>\n",
       "      <th>0</th>\n",
       "      <td>Forza horizon 5 bsa om .bsa skalian di install?</td>\n",
       "      <td>forza horizon 5 bsa om bsa skalian di install</td>\n",
       "      <td>[forza, horizon, 5, bisa, om, bisa,  sekalian,...</td>\n",
       "    </tr>\n",
       "    <tr>\n",
       "      <th>1</th>\n",
       "      <td>gan itu pc only udah sama dalemannya?</td>\n",
       "      <td>gan itu pc only udah sama dalemannya</td>\n",
       "      <td>[gan, itu, pc, only, sudah, sama, dalemanya]</td>\n",
       "    </tr>\n",
       "    <tr>\n",
       "      <th>2</th>\n",
       "      <td>gan, bisa maenin game EA FC 24 dan call of dut...</td>\n",
       "      <td>gan bisa maenin game ea fc 24 dan call of duty...</td>\n",
       "      <td>[gan, bisa, maenin, game, iya, fc, 24, dan, ca...</td>\n",
       "    </tr>\n",
       "    <tr>\n",
       "      <th>3</th>\n",
       "      <td>gan ini kalo buat pb atau gta 5 bisa</td>\n",
       "      <td>gan ini kalo buat pb atau gta 5 bisa</td>\n",
       "      <td>[gan, ini,  kalau, buat, pb, atau, gta, 5, bisa]</td>\n",
       "    </tr>\n",
       "    <tr>\n",
       "      <th>4</th>\n",
       "      <td>Bisa installin ets2 dan gta roleplay?? Sisanya...</td>\n",
       "      <td>bisa installin ets2 dan gta roleplay sisanya k...</td>\n",
       "      <td>[bisa, instalin, ets2, dan, gta, roleplay, sis...</td>\n",
       "    </tr>\n",
       "    <tr>\n",
       "      <th>...</th>\n",
       "      <td>...</td>\n",
       "      <td>...</td>\n",
       "      <td>...</td>\n",
       "    </tr>\n",
       "    <tr>\n",
       "      <th>1387</th>\n",
       "      <td>gan kalo di pake game microsoft flight simulat...</td>\n",
       "      <td>gan kalo di pake game microsoft flight simulat...</td>\n",
       "      <td>[gan,  kalau, di, pakai, game, microsoft, flig...</td>\n",
       "    </tr>\n",
       "    <tr>\n",
       "      <th>1388</th>\n",
       "      <td>Min minecraft berapa fps tolong ya min mau bel...</td>\n",
       "      <td>min minecraft berapa fps tolong ya min mau bel...</td>\n",
       "      <td>[min, minecraft, berapa, fps, tolong, ya, min,...</td>\n",
       "    </tr>\n",
       "    <tr>\n",
       "      <th>1389</th>\n",
       "      <td>Min untuk hardisk-nya kalau diubah ke 1TB apa ...</td>\n",
       "      <td>min untuk hardisknya kalau diubah ke 1tb apa p...</td>\n",
       "      <td>[min, untuk, hardisknya, kalau, diubah, ke, 1t...</td>\n",
       "    </tr>\n",
       "    <tr>\n",
       "      <th>1390</th>\n",
       "      <td>kalo ada yg mau di ubah bisa min?</td>\n",
       "      <td>kalo ada yg mau di ubah bisa min</td>\n",
       "      <td>[ kalau, ada, yang, mau, di, ubah, bisa, min]</td>\n",
       "    </tr>\n",
       "    <tr>\n",
       "      <th>1391</th>\n",
       "      <td>Ini ready gan?</td>\n",
       "      <td>ini ready gan</td>\n",
       "      <td>[ini, ready, gan]</td>\n",
       "    </tr>\n",
       "  </tbody>\n",
       "</table>\n",
       "<p>1392 rows × 3 columns</p>\n",
       "</div>"
      ],
      "text/plain": [
       "                                               question  \\\n",
       "0       Forza horizon 5 bsa om .bsa skalian di install?   \n",
       "1                 gan itu pc only udah sama dalemannya?   \n",
       "2     gan, bisa maenin game EA FC 24 dan call of dut...   \n",
       "3                  gan ini kalo buat pb atau gta 5 bisa   \n",
       "4     Bisa installin ets2 dan gta roleplay?? Sisanya...   \n",
       "...                                                 ...   \n",
       "1387  gan kalo di pake game microsoft flight simulat...   \n",
       "1388  Min minecraft berapa fps tolong ya min mau bel...   \n",
       "1389  Min untuk hardisk-nya kalau diubah ke 1TB apa ...   \n",
       "1390                  kalo ada yg mau di ubah bisa min?   \n",
       "1391                                     Ini ready gan?   \n",
       "\n",
       "                           question_after_preprocessing  \\\n",
       "0         forza horizon 5 bsa om bsa skalian di install   \n",
       "1                  gan itu pc only udah sama dalemannya   \n",
       "2     gan bisa maenin game ea fc 24 dan call of duty...   \n",
       "3                  gan ini kalo buat pb atau gta 5 bisa   \n",
       "4     bisa installin ets2 dan gta roleplay sisanya k...   \n",
       "...                                                 ...   \n",
       "1387  gan kalo di pake game microsoft flight simulat...   \n",
       "1388  min minecraft berapa fps tolong ya min mau bel...   \n",
       "1389  min untuk hardisknya kalau diubah ke 1tb apa p...   \n",
       "1390                   kalo ada yg mau di ubah bisa min   \n",
       "1391                                      ini ready gan   \n",
       "\n",
       "                                        question_tokens  \n",
       "0     [forza, horizon, 5, bisa, om, bisa,  sekalian,...  \n",
       "1          [gan, itu, pc, only, sudah, sama, dalemanya]  \n",
       "2     [gan, bisa, maenin, game, iya, fc, 24, dan, ca...  \n",
       "3      [gan, ini,  kalau, buat, pb, atau, gta, 5, bisa]  \n",
       "4     [bisa, instalin, ets2, dan, gta, roleplay, sis...  \n",
       "...                                                 ...  \n",
       "1387  [gan,  kalau, di, pakai, game, microsoft, flig...  \n",
       "1388  [min, minecraft, berapa, fps, tolong, ya, min,...  \n",
       "1389  [min, untuk, hardisknya, kalau, diubah, ke, 1t...  \n",
       "1390      [ kalau, ada, yang, mau, di, ubah, bisa, min]  \n",
       "1391                                  [ini, ready, gan]  \n",
       "\n",
       "[1392 rows x 3 columns]"
      ]
     },
     "execution_count": 23,
     "metadata": {},
     "output_type": "execute_result"
    }
   ],
   "source": [
    "df"
   ]
  },
  {
   "cell_type": "code",
   "execution_count": 24,
   "metadata": {},
   "outputs": [
    {
     "name": "stderr",
     "output_type": "stream",
     "text": [
      "/var/folders/cr/8g19f6x13sn907v0ff4vkmm80000gn/T/ipykernel_4756/4145880968.py:12: SettingWithCopyWarning: \n",
      "A value is trying to be set on a copy of a slice from a DataFrame.\n",
      "Try using .loc[row_indexer,col_indexer] = value instead\n",
      "\n",
      "See the caveats in the documentation: https://pandas.pydata.org/pandas-docs/stable/user_guide/indexing.html#returning-a-view-versus-a-copy\n",
      "  df['question_tokens'] = df['question_tokens'].apply(steming_word_sastrawi)\n"
     ]
    }
   ],
   "source": [
    "def steming_word_sastrawi(list_word):\n",
    "    try:\n",
    "        list_result = []\n",
    "        for word in list_word:\n",
    "            stemmed_word = stemmer.stem(word)\n",
    "            list_result.append(stemmed_word)\n",
    "        return list_result\n",
    "    except:\n",
    "        print(list_word)\n",
    "        return list_word\n",
    "\n",
    "df['question_tokens'] = df['question_tokens'].apply(steming_word_sastrawi)"
   ]
  },
  {
   "cell_type": "markdown",
   "metadata": {},
   "source": [
    "#### ***3.8 Stopword***"
   ]
  },
  {
   "cell_type": "code",
   "execution_count": 25,
   "metadata": {},
   "outputs": [],
   "source": [
    "stopword_factory = StopWordRemoverFactory()\n",
    "stopword_remover = stopword_factory.create_stop_word_remover()"
   ]
  },
  {
   "cell_type": "code",
   "execution_count": 27,
   "metadata": {},
   "outputs": [
    {
     "data": {
      "text/plain": [
       "0       [forza, horizon, 5, bisa, om, bisa, sekali, di...\n",
       "1            [gan, itu, pc, only, sudah, sama, dalemanya]\n",
       "2       [gan, bisa, maenin, game, iya, fc, 24, dan, ca...\n",
       "3         [gan, ini, kalau, buat, pb, atau, gta, 5, bisa]\n",
       "4       [bisa, instalin, ets2, dan, gta, roleplay, sis...\n",
       "                              ...                        \n",
       "1387    [gan, kalau, di, pakai, game, microsoft, fligh...\n",
       "1388    [min, minecraft, berapa, fps, tolong, ya, min,...\n",
       "1389    [min, untuk, hardisknya, kalau, ubah, ke, 1tb,...\n",
       "1390         [kalau, ada, yang, mau, di, ubah, bisa, min]\n",
       "1391                                    [ini, ready, gan]\n",
       "Name: question_tokens, Length: 1392, dtype: object"
      ]
     },
     "execution_count": 27,
     "metadata": {},
     "output_type": "execute_result"
    }
   ],
   "source": [
    "df['question_tokens']"
   ]
  },
  {
   "cell_type": "code",
   "execution_count": 30,
   "metadata": {},
   "outputs": [
    {
     "name": "stderr",
     "output_type": "stream",
     "text": [
      "/var/folders/cr/8g19f6x13sn907v0ff4vkmm80000gn/T/ipykernel_4756/434241164.py:13: SettingWithCopyWarning: \n",
      "A value is trying to be set on a copy of a slice from a DataFrame.\n",
      "Try using .loc[row_indexer,col_indexer] = value instead\n",
      "\n",
      "See the caveats in the documentation: https://pandas.pydata.org/pandas-docs/stable/user_guide/indexing.html#returning-a-view-versus-a-copy\n",
      "  df['question_tokens'] = df['question_tokens'].apply(remove_stopword)\n"
     ]
    }
   ],
   "source": [
    "def remove_stopword(list_word):\n",
    "    try:\n",
    "        list_result = []\n",
    "        for word in list_word:\n",
    "            stopword_word = stopword_remover.remove(word)\n",
    "            if stopword_word != '':\n",
    "                list_result.append(word)\n",
    "        return list_result\n",
    "    except:\n",
    "        print(list_word)\n",
    "        return list_word\n",
    "    \n",
    "df['question_tokens'] = df['question_tokens'].apply(remove_stopword)"
   ]
  },
  {
   "cell_type": "code",
   "execution_count": 31,
   "metadata": {},
   "outputs": [
    {
     "data": {
      "text/html": [
       "<div>\n",
       "<style scoped>\n",
       "    .dataframe tbody tr th:only-of-type {\n",
       "        vertical-align: middle;\n",
       "    }\n",
       "\n",
       "    .dataframe tbody tr th {\n",
       "        vertical-align: top;\n",
       "    }\n",
       "\n",
       "    .dataframe thead th {\n",
       "        text-align: right;\n",
       "    }\n",
       "</style>\n",
       "<table border=\"1\" class=\"dataframe\">\n",
       "  <thead>\n",
       "    <tr style=\"text-align: right;\">\n",
       "      <th></th>\n",
       "      <th>question</th>\n",
       "      <th>question_after_preprocessing</th>\n",
       "      <th>question_tokens</th>\n",
       "    </tr>\n",
       "  </thead>\n",
       "  <tbody>\n",
       "    <tr>\n",
       "      <th>0</th>\n",
       "      <td>Forza horizon 5 bsa om .bsa skalian di install?</td>\n",
       "      <td>forza horizon 5 bsa om bsa skalian di install</td>\n",
       "      <td>[forza, horizon, 5, om, sekali, instal]</td>\n",
       "    </tr>\n",
       "    <tr>\n",
       "      <th>1</th>\n",
       "      <td>gan itu pc only udah sama dalemannya?</td>\n",
       "      <td>gan itu pc only udah sama dalemannya</td>\n",
       "      <td>[gan, pc, only, sama, dalemanya]</td>\n",
       "    </tr>\n",
       "    <tr>\n",
       "      <th>2</th>\n",
       "      <td>gan, bisa maenin game EA FC 24 dan call of dut...</td>\n",
       "      <td>gan bisa maenin game ea fc 24 dan call of duty...</td>\n",
       "      <td>[gan, maenin, game, iya, fc, 24, cal, of, duty...</td>\n",
       "    </tr>\n",
       "    <tr>\n",
       "      <th>3</th>\n",
       "      <td>gan ini kalo buat pb atau gta 5 bisa</td>\n",
       "      <td>gan ini kalo buat pb atau gta 5 bisa</td>\n",
       "      <td>[gan, kalau, buat, pb, gta, 5]</td>\n",
       "    </tr>\n",
       "    <tr>\n",
       "      <th>4</th>\n",
       "      <td>Bisa installin ets2 dan gta roleplay?? Sisanya...</td>\n",
       "      <td>bisa installin ets2 dan gta roleplay sisanya k...</td>\n",
       "      <td>[instalin, ets2, gta, roleplay, sisa, kosong]</td>\n",
       "    </tr>\n",
       "    <tr>\n",
       "      <th>...</th>\n",
       "      <td>...</td>\n",
       "      <td>...</td>\n",
       "      <td>...</td>\n",
       "    </tr>\n",
       "    <tr>\n",
       "      <th>1387</th>\n",
       "      <td>gan kalo di pake game microsoft flight simulat...</td>\n",
       "      <td>gan kalo di pake game microsoft flight simulat...</td>\n",
       "      <td>[gan, kalau, pakai, game, microsoft, flight, s...</td>\n",
       "    </tr>\n",
       "    <tr>\n",
       "      <th>1388</th>\n",
       "      <td>Min minecraft berapa fps tolong ya min mau bel...</td>\n",
       "      <td>min minecraft berapa fps tolong ya min mau bel...</td>\n",
       "      <td>[min, minecraft, berapa, fps, min, mau, beli, ...</td>\n",
       "    </tr>\n",
       "    <tr>\n",
       "      <th>1389</th>\n",
       "      <td>Min untuk hardisk-nya kalau diubah ke 1TB apa ...</td>\n",
       "      <td>min untuk hardisknya kalau diubah ke 1tb apa p...</td>\n",
       "      <td>[min, hardisknya, kalau, ubah, 1tb, apa, perlu...</td>\n",
       "    </tr>\n",
       "    <tr>\n",
       "      <th>1390</th>\n",
       "      <td>kalo ada yg mau di ubah bisa min?</td>\n",
       "      <td>kalo ada yg mau di ubah bisa min</td>\n",
       "      <td>[kalau, mau, ubah, min]</td>\n",
       "    </tr>\n",
       "    <tr>\n",
       "      <th>1391</th>\n",
       "      <td>Ini ready gan?</td>\n",
       "      <td>ini ready gan</td>\n",
       "      <td>[ready, gan]</td>\n",
       "    </tr>\n",
       "  </tbody>\n",
       "</table>\n",
       "<p>1392 rows × 3 columns</p>\n",
       "</div>"
      ],
      "text/plain": [
       "                                               question  \\\n",
       "0       Forza horizon 5 bsa om .bsa skalian di install?   \n",
       "1                 gan itu pc only udah sama dalemannya?   \n",
       "2     gan, bisa maenin game EA FC 24 dan call of dut...   \n",
       "3                  gan ini kalo buat pb atau gta 5 bisa   \n",
       "4     Bisa installin ets2 dan gta roleplay?? Sisanya...   \n",
       "...                                                 ...   \n",
       "1387  gan kalo di pake game microsoft flight simulat...   \n",
       "1388  Min minecraft berapa fps tolong ya min mau bel...   \n",
       "1389  Min untuk hardisk-nya kalau diubah ke 1TB apa ...   \n",
       "1390                  kalo ada yg mau di ubah bisa min?   \n",
       "1391                                     Ini ready gan?   \n",
       "\n",
       "                           question_after_preprocessing  \\\n",
       "0         forza horizon 5 bsa om bsa skalian di install   \n",
       "1                  gan itu pc only udah sama dalemannya   \n",
       "2     gan bisa maenin game ea fc 24 dan call of duty...   \n",
       "3                  gan ini kalo buat pb atau gta 5 bisa   \n",
       "4     bisa installin ets2 dan gta roleplay sisanya k...   \n",
       "...                                                 ...   \n",
       "1387  gan kalo di pake game microsoft flight simulat...   \n",
       "1388  min minecraft berapa fps tolong ya min mau bel...   \n",
       "1389  min untuk hardisknya kalau diubah ke 1tb apa p...   \n",
       "1390                   kalo ada yg mau di ubah bisa min   \n",
       "1391                                      ini ready gan   \n",
       "\n",
       "                                        question_tokens  \n",
       "0               [forza, horizon, 5, om, sekali, instal]  \n",
       "1                      [gan, pc, only, sama, dalemanya]  \n",
       "2     [gan, maenin, game, iya, fc, 24, cal, of, duty...  \n",
       "3                        [gan, kalau, buat, pb, gta, 5]  \n",
       "4         [instalin, ets2, gta, roleplay, sisa, kosong]  \n",
       "...                                                 ...  \n",
       "1387  [gan, kalau, pakai, game, microsoft, flight, s...  \n",
       "1388  [min, minecraft, berapa, fps, min, mau, beli, ...  \n",
       "1389  [min, hardisknya, kalau, ubah, 1tb, apa, perlu...  \n",
       "1390                            [kalau, mau, ubah, min]  \n",
       "1391                                       [ready, gan]  \n",
       "\n",
       "[1392 rows x 3 columns]"
      ]
     },
     "execution_count": 31,
     "metadata": {},
     "output_type": "execute_result"
    }
   ],
   "source": [
    "df"
   ]
  }
 ],
 "metadata": {
  "kernelspec": {
   "display_name": "base",
   "language": "python",
   "name": "python3"
  },
  "language_info": {
   "codemirror_mode": {
    "name": "ipython",
    "version": 3
   },
   "file_extension": ".py",
   "mimetype": "text/x-python",
   "name": "python",
   "nbconvert_exporter": "python",
   "pygments_lexer": "ipython3",
   "version": "3.11.7"
  }
 },
 "nbformat": 4,
 "nbformat_minor": 2
}
