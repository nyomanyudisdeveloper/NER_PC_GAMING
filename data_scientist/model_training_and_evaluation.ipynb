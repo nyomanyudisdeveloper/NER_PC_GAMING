{
 "cells": [
  {
   "cell_type": "markdown",
   "metadata": {},
   "source": [
    "## 1. Import Libraries"
   ]
  },
  {
   "cell_type": "code",
   "execution_count": 1,
   "metadata": {},
   "outputs": [],
   "source": [
    "import pandas as pd\n",
    "import numpy as np\n",
    "import math\n",
    "# Import libraryu for load file pkl and txt\n",
    "import pickle  \n",
    "import json \n",
    "\n",
    "from tensorflow.keras.preprocessing.sequence import pad_sequences\n",
    "from sklearn.model_selection import train_test_split\n",
    "\n",
    "from tensorflow.keras.layers import LSTM, Embedding\n",
    "from tensorflow.keras.layers import InputLayer, SpatialDropout1D, Bidirectional\n",
    "from tensorflow.keras.preprocessing.sequence import pad_sequences\n",
    "from tensorflow import keras\n",
    "\n",
    "import matplotlib.pyplot as plt\n",
    "import seaborn as sns\n",
    "\n"
   ]
  },
  {
   "cell_type": "markdown",
   "metadata": {},
   "source": [
    "## 2. Data Loading and Preparation"
   ]
  },
  {
   "cell_type": "markdown",
   "metadata": {},
   "source": [
    "### 2.1 Data Loading"
   ]
  },
  {
   "cell_type": "code",
   "execution_count": 2,
   "metadata": {},
   "outputs": [],
   "source": [
    "# load file from DatasetWithTagFinal to dataframe\n",
    "df = pd.read_csv('../dataset/DatasetWithTagFinal.csv')"
   ]
  },
  {
   "cell_type": "code",
   "execution_count": 3,
   "metadata": {},
   "outputs": [
    {
     "data": {
      "text/html": [
       "<div>\n",
       "<style scoped>\n",
       "    .dataframe tbody tr th:only-of-type {\n",
       "        vertical-align: middle;\n",
       "    }\n",
       "\n",
       "    .dataframe tbody tr th {\n",
       "        vertical-align: top;\n",
       "    }\n",
       "\n",
       "    .dataframe thead th {\n",
       "        text-align: right;\n",
       "    }\n",
       "</style>\n",
       "<table border=\"1\" class=\"dataframe\">\n",
       "  <thead>\n",
       "    <tr style=\"text-align: right;\">\n",
       "      <th></th>\n",
       "      <th>sentence</th>\n",
       "      <th>kata</th>\n",
       "      <th>tag</th>\n",
       "    </tr>\n",
       "  </thead>\n",
       "  <tbody>\n",
       "    <tr>\n",
       "      <th>0</th>\n",
       "      <td>Kalimat 1</td>\n",
       "      <td>forza</td>\n",
       "      <td>B-Game</td>\n",
       "    </tr>\n",
       "    <tr>\n",
       "      <th>1</th>\n",
       "      <td>Kalimat 1</td>\n",
       "      <td>horizon</td>\n",
       "      <td>E-Game</td>\n",
       "    </tr>\n",
       "    <tr>\n",
       "      <th>2</th>\n",
       "      <td>Kalimat 1</td>\n",
       "      <td>om</td>\n",
       "      <td>O</td>\n",
       "    </tr>\n",
       "    <tr>\n",
       "      <th>3</th>\n",
       "      <td>Kalimat 1</td>\n",
       "      <td>sekali</td>\n",
       "      <td>O</td>\n",
       "    </tr>\n",
       "    <tr>\n",
       "      <th>4</th>\n",
       "      <td>Kalimat 1</td>\n",
       "      <td>install</td>\n",
       "      <td>B-Request</td>\n",
       "    </tr>\n",
       "  </tbody>\n",
       "</table>\n",
       "</div>"
      ],
      "text/plain": [
       "    sentence     kata        tag\n",
       "0  Kalimat 1    forza     B-Game\n",
       "1  Kalimat 1  horizon     E-Game\n",
       "2  Kalimat 1       om          O\n",
       "3  Kalimat 1   sekali          O\n",
       "4  Kalimat 1  install  B-Request"
      ]
     },
     "execution_count": 3,
     "metadata": {},
     "output_type": "execute_result"
    }
   ],
   "source": [
    "# Check 5 top data in df\n",
    "df.head()"
   ]
  },
  {
   "cell_type": "markdown",
   "metadata": {},
   "source": [
    "### 2.2 Remove tag O"
   ]
  },
  {
   "cell_type": "code",
   "execution_count": 4,
   "metadata": {},
   "outputs": [],
   "source": [
    "# delete df that contain tag 'O' , the reason is to prevent missleading accuracy with label inbalance \n",
    "df = df[df['tag'] != 'O']"
   ]
  },
  {
   "cell_type": "markdown",
   "metadata": {},
   "source": [
    "### 2.3 Create list index data for every word and tag in df, and export it to file json"
   ]
  },
  {
   "cell_type": "code",
   "execution_count": 5,
   "metadata": {},
   "outputs": [
    {
     "name": "stdout",
     "output_type": "stream",
     "text": [
      "Unique words in corpus: 353\n",
      "Unique tags in corpus: 48\n"
     ]
    }
   ],
   "source": [
    "print(\"Unique words in corpus:\", df['kata'].nunique())\n",
    "print(\"Unique tags in corpus:\", df['tag'].nunique())\n",
    "\n",
    "# create list of unique words in column kata\n",
    "words = list(set(df[\"kata\"].values))\n",
    "num_words = len(words)\n",
    "\n",
    "# create list of unique in column tag\n",
    "tags = list(set(df[\"tag\"].values))\n",
    "num_tags = len(tags)"
   ]
  },
  {
   "cell_type": "code",
   "execution_count": 6,
   "metadata": {},
   "outputs": [],
   "source": [
    "# Create dictionary with word as key and index as value\n",
    "word2idx = {w: i + 1 for i, w in enumerate(words)}\n",
    "\n",
    "# Create dictionary with tag as key and index as value\n",
    "tag2idx = {t: i + 1 for i, t in enumerate(tags)}"
   ]
  },
  {
   "cell_type": "code",
   "execution_count": 7,
   "metadata": {},
   "outputs": [],
   "source": [
    "# export word2idx and tag2idx to file json that will used for model inferential\n",
    "with open('wordDict.json', 'w') as file1:\n",
    "    json.dump(word2idx, file1)\n",
    "\n",
    "with open('tagDict.json', 'w') as file2:\n",
    "    json.dump(tag2idx, file2)\n",
    "\n",
    "with open('./deployment_streamlit/wordDict.json', 'w') as file3:\n",
    "    json.dump(word2idx, file3)\n",
    "\n",
    "with open('./deployment_streamlit/tagDict.json', 'w') as file4:\n",
    "    json.dump(tag2idx, file4)"
   ]
  },
  {
   "cell_type": "markdown",
   "metadata": {},
   "source": [
    "### 2.4 Convert word and tag to index and make pad_sequence"
   ]
  },
  {
   "cell_type": "code",
   "execution_count": 8,
   "metadata": {},
   "outputs": [
    {
     "name": "stderr",
     "output_type": "stream",
     "text": [
      "/var/folders/cr/8g19f6x13sn907v0ff4vkmm80000gn/T/ipykernel_22097/2418511087.py:9: DeprecationWarning: DataFrameGroupBy.apply operated on the grouping columns. This behavior is deprecated, and in a future version of pandas the grouping columns will be excluded from the operation. Either pass `include_groups=False` to exclude the groupings or explicitly select the grouping columns after groupby to silence this warning.\n",
      "  self.grouped = self.df.groupby(\"sentence\").apply(agg)\n"
     ]
    }
   ],
   "source": [
    "# Class to get word and its tag for every sentence with format array tuple\n",
    "class List_Format_NER(object):\n",
    "    def __init__(self, df):\n",
    "        self.n_sent = 1\n",
    "        self.df = df\n",
    "        self.empty = False\n",
    "        agg = lambda s: [(w, t) for w, t in zip(s['kata'].values.tolist(),\n",
    "                                                s['tag'].values.tolist())]\n",
    "        self.grouped = self.df.groupby(\"sentence\").apply(agg)\n",
    "        self.sentences = [s for s in self.grouped]\n",
    "        \n",
    "    def get_text(self):\n",
    "        try:\n",
    "            s = self.grouped['Kalimat: {}'.format(self.n_sent)]\n",
    "            self.n_sent += 1\n",
    "            return s\n",
    "        except KeyError:\n",
    "            return None\n",
    "\n",
    "# Displaying one full sentence\n",
    "list_format_ner = List_Format_NER(df)"
   ]
  },
  {
   "cell_type": "code",
   "execution_count": 9,
   "metadata": {},
   "outputs": [],
   "source": [
    "list_sentence = list_format_ner.sentences\n",
    "\n",
    "max_len = 40\n",
    "\n",
    "# convert every word to index and make pad_sequence to ease process model training\n",
    "X = [[word2idx[w[0]] for w in s] for s in list_sentence]\n",
    "X = pad_sequences(maxlen=max_len, sequences=X, padding=\"post\")\n",
    "\n",
    "# convert every tag to index and make pad_sequence to ease process model training\n",
    "y = [[tag2idx[w[1]] for w in s] for s in list_sentence]\n",
    "y = pad_sequences(maxlen=max_len, sequences=y, padding=\"post\")"
   ]
  },
  {
   "cell_type": "markdown",
   "metadata": {},
   "source": [
    "### 2.5 Split data for train and test"
   ]
  },
  {
   "cell_type": "code",
   "execution_count": 10,
   "metadata": {},
   "outputs": [],
   "source": [
    "# Split data for model train and test\n",
    "X_train, X_test, y_train, y_test = train_test_split(X, y, test_size=0.2, random_state=1)"
   ]
  },
  {
   "cell_type": "markdown",
   "metadata": {},
   "source": [
    "## 3. Model Training"
   ]
  },
  {
   "cell_type": "code",
   "execution_count": 11,
   "metadata": {},
   "outputs": [
    {
     "name": "stderr",
     "output_type": "stream",
     "text": [
      "/opt/anaconda3/lib/python3.11/site-packages/keras/src/layers/core/embedding.py:90: UserWarning: Argument `input_length` is deprecated. Just remove it.\n",
      "  warnings.warn(\n"
     ]
    },
    {
     "data": {
      "text/html": [
       "<pre style=\"white-space:pre;overflow-x:auto;line-height:normal;font-family:Menlo,'DejaVu Sans Mono',consolas,'Courier New',monospace\"><span style=\"font-weight: bold\">Model: \"sequential\"</span>\n",
       "</pre>\n"
      ],
      "text/plain": [
       "\u001b[1mModel: \"sequential\"\u001b[0m\n"
      ]
     },
     "metadata": {},
     "output_type": "display_data"
    },
    {
     "data": {
      "text/html": [
       "<pre style=\"white-space:pre;overflow-x:auto;line-height:normal;font-family:Menlo,'DejaVu Sans Mono',consolas,'Courier New',monospace\">┏━━━━━━━━━━━━━━━━━━━━━━━━━━━━━━━━━┳━━━━━━━━━━━━━━━━━━━━━━━━┳━━━━━━━━━━━━━━━┓\n",
       "┃<span style=\"font-weight: bold\"> Layer (type)                    </span>┃<span style=\"font-weight: bold\"> Output Shape           </span>┃<span style=\"font-weight: bold\">       Param # </span>┃\n",
       "┡━━━━━━━━━━━━━━━━━━━━━━━━━━━━━━━━━╇━━━━━━━━━━━━━━━━━━━━━━━━╇━━━━━━━━━━━━━━━┩\n",
       "│ embedding (<span style=\"color: #0087ff; text-decoration-color: #0087ff\">Embedding</span>)           │ (<span style=\"color: #00d7ff; text-decoration-color: #00d7ff\">None</span>, <span style=\"color: #00af00; text-decoration-color: #00af00\">40</span>, <span style=\"color: #00af00; text-decoration-color: #00af00\">50</span>)         │        <span style=\"color: #00af00; text-decoration-color: #00af00\">17,700</span> │\n",
       "├─────────────────────────────────┼────────────────────────┼───────────────┤\n",
       "│ spatial_dropout1d               │ (<span style=\"color: #00d7ff; text-decoration-color: #00d7ff\">None</span>, <span style=\"color: #00af00; text-decoration-color: #00af00\">40</span>, <span style=\"color: #00af00; text-decoration-color: #00af00\">50</span>)         │             <span style=\"color: #00af00; text-decoration-color: #00af00\">0</span> │\n",
       "│ (<span style=\"color: #0087ff; text-decoration-color: #0087ff\">SpatialDropout1D</span>)              │                        │               │\n",
       "├─────────────────────────────────┼────────────────────────┼───────────────┤\n",
       "│ bidirectional (<span style=\"color: #0087ff; text-decoration-color: #0087ff\">Bidirectional</span>)   │ (<span style=\"color: #00d7ff; text-decoration-color: #00d7ff\">None</span>, <span style=\"color: #00af00; text-decoration-color: #00af00\">40</span>, <span style=\"color: #00af00; text-decoration-color: #00af00\">200</span>)        │       <span style=\"color: #00af00; text-decoration-color: #00af00\">120,800</span> │\n",
       "└─────────────────────────────────┴────────────────────────┴───────────────┘\n",
       "</pre>\n"
      ],
      "text/plain": [
       "┏━━━━━━━━━━━━━━━━━━━━━━━━━━━━━━━━━┳━━━━━━━━━━━━━━━━━━━━━━━━┳━━━━━━━━━━━━━━━┓\n",
       "┃\u001b[1m \u001b[0m\u001b[1mLayer (type)                   \u001b[0m\u001b[1m \u001b[0m┃\u001b[1m \u001b[0m\u001b[1mOutput Shape          \u001b[0m\u001b[1m \u001b[0m┃\u001b[1m \u001b[0m\u001b[1m      Param #\u001b[0m\u001b[1m \u001b[0m┃\n",
       "┡━━━━━━━━━━━━━━━━━━━━━━━━━━━━━━━━━╇━━━━━━━━━━━━━━━━━━━━━━━━╇━━━━━━━━━━━━━━━┩\n",
       "│ embedding (\u001b[38;5;33mEmbedding\u001b[0m)           │ (\u001b[38;5;45mNone\u001b[0m, \u001b[38;5;34m40\u001b[0m, \u001b[38;5;34m50\u001b[0m)         │        \u001b[38;5;34m17,700\u001b[0m │\n",
       "├─────────────────────────────────┼────────────────────────┼───────────────┤\n",
       "│ spatial_dropout1d               │ (\u001b[38;5;45mNone\u001b[0m, \u001b[38;5;34m40\u001b[0m, \u001b[38;5;34m50\u001b[0m)         │             \u001b[38;5;34m0\u001b[0m │\n",
       "│ (\u001b[38;5;33mSpatialDropout1D\u001b[0m)              │                        │               │\n",
       "├─────────────────────────────────┼────────────────────────┼───────────────┤\n",
       "│ bidirectional (\u001b[38;5;33mBidirectional\u001b[0m)   │ (\u001b[38;5;45mNone\u001b[0m, \u001b[38;5;34m40\u001b[0m, \u001b[38;5;34m200\u001b[0m)        │       \u001b[38;5;34m120,800\u001b[0m │\n",
       "└─────────────────────────────────┴────────────────────────┴───────────────┘\n"
      ]
     },
     "metadata": {},
     "output_type": "display_data"
    },
    {
     "data": {
      "text/html": [
       "<pre style=\"white-space:pre;overflow-x:auto;line-height:normal;font-family:Menlo,'DejaVu Sans Mono',consolas,'Courier New',monospace\"><span style=\"font-weight: bold\"> Total params: </span><span style=\"color: #00af00; text-decoration-color: #00af00\">138,500</span> (541.02 KB)\n",
       "</pre>\n"
      ],
      "text/plain": [
       "\u001b[1m Total params: \u001b[0m\u001b[38;5;34m138,500\u001b[0m (541.02 KB)\n"
      ]
     },
     "metadata": {},
     "output_type": "display_data"
    },
    {
     "data": {
      "text/html": [
       "<pre style=\"white-space:pre;overflow-x:auto;line-height:normal;font-family:Menlo,'DejaVu Sans Mono',consolas,'Courier New',monospace\"><span style=\"font-weight: bold\"> Trainable params: </span><span style=\"color: #00af00; text-decoration-color: #00af00\">138,500</span> (541.02 KB)\n",
       "</pre>\n"
      ],
      "text/plain": [
       "\u001b[1m Trainable params: \u001b[0m\u001b[38;5;34m138,500\u001b[0m (541.02 KB)\n"
      ]
     },
     "metadata": {},
     "output_type": "display_data"
    },
    {
     "data": {
      "text/html": [
       "<pre style=\"white-space:pre;overflow-x:auto;line-height:normal;font-family:Menlo,'DejaVu Sans Mono',consolas,'Courier New',monospace\"><span style=\"font-weight: bold\"> Non-trainable params: </span><span style=\"color: #00af00; text-decoration-color: #00af00\">0</span> (0.00 B)\n",
       "</pre>\n"
      ],
      "text/plain": [
       "\u001b[1m Non-trainable params: \u001b[0m\u001b[38;5;34m0\u001b[0m (0.00 B)\n"
      ]
     },
     "metadata": {},
     "output_type": "display_data"
    }
   ],
   "source": [
    "# Define the embedding dimension\n",
    "embedding_dim = 50  # This is an example value; choose based on your needs\n",
    "\n",
    "model = keras.Sequential()\n",
    "model.add(InputLayer((max_len,)))\n",
    "model.add(Embedding(input_dim=num_words+1, output_dim=embedding_dim, input_length=max_len))\n",
    "model.add(SpatialDropout1D(0.1))\n",
    "model.add(Bidirectional(LSTM(units=100, return_sequences=True, recurrent_dropout=0.1)))\n",
    "\n",
    "model.summary()\n"
   ]
  },
  {
   "cell_type": "code",
   "execution_count": 12,
   "metadata": {},
   "outputs": [],
   "source": [
    "model.compile(optimizer=\"adam\",\n",
    "              loss=\"sparse_categorical_crossentropy\",\n",
    "              metrics=['accuracy'])"
   ]
  },
  {
   "cell_type": "code",
   "execution_count": 13,
   "metadata": {},
   "outputs": [
    {
     "name": "stdout",
     "output_type": "stream",
     "text": [
      "Epoch 1/15\n",
      "\u001b[1m48/48\u001b[0m \u001b[32m━━━━━━━━━━━━━━━━━━━━\u001b[0m\u001b[37m\u001b[0m \u001b[1m2s\u001b[0m 16ms/step - accuracy: 0.8290 - loss: 2.5349 - val_accuracy: 0.9587 - val_loss: 0.2997\n",
      "Epoch 2/15\n",
      "\u001b[1m48/48\u001b[0m \u001b[32m━━━━━━━━━━━━━━━━━━━━\u001b[0m\u001b[37m\u001b[0m \u001b[1m1s\u001b[0m 14ms/step - accuracy: 0.9663 - loss: 0.2415 - val_accuracy: 0.9705 - val_loss: 0.2227\n",
      "Epoch 3/15\n",
      "\u001b[1m48/48\u001b[0m \u001b[32m━━━━━━━━━━━━━━━━━━━━\u001b[0m\u001b[37m\u001b[0m \u001b[1m1s\u001b[0m 22ms/step - accuracy: 0.9775 - loss: 0.1735 - val_accuracy: 0.9722 - val_loss: 0.2075\n",
      "Epoch 4/15\n",
      "\u001b[1m48/48\u001b[0m \u001b[32m━━━━━━━━━━━━━━━━━━━━\u001b[0m\u001b[37m\u001b[0m \u001b[1m1s\u001b[0m 25ms/step - accuracy: 0.9793 - loss: 0.1698 - val_accuracy: 0.9764 - val_loss: 0.1822\n",
      "Epoch 5/15\n",
      "\u001b[1m48/48\u001b[0m \u001b[32m━━━━━━━━━━━━━━━━━━━━\u001b[0m\u001b[37m\u001b[0m \u001b[1m1s\u001b[0m 23ms/step - accuracy: 0.9804 - loss: 0.1471 - val_accuracy: 0.9769 - val_loss: 0.1942\n",
      "Epoch 6/15\n",
      "\u001b[1m48/48\u001b[0m \u001b[32m━━━━━━━━━━━━━━━━━━━━\u001b[0m\u001b[37m\u001b[0m \u001b[1m1s\u001b[0m 22ms/step - accuracy: 0.9805 - loss: 0.1595 - val_accuracy: 0.9578 - val_loss: 0.3251\n",
      "Epoch 7/15\n",
      "\u001b[1m48/48\u001b[0m \u001b[32m━━━━━━━━━━━━━━━━━━━━\u001b[0m\u001b[37m\u001b[0m \u001b[1m1s\u001b[0m 19ms/step - accuracy: 0.9711 - loss: 0.2310 - val_accuracy: 0.9712 - val_loss: 0.2276\n",
      "Epoch 8/15\n",
      "\u001b[1m48/48\u001b[0m \u001b[32m━━━━━━━━━━━━━━━━━━━━\u001b[0m\u001b[37m\u001b[0m \u001b[1m1s\u001b[0m 20ms/step - accuracy: 0.9818 - loss: 0.1384 - val_accuracy: 0.9769 - val_loss: 0.1778\n",
      "Epoch 9/15\n",
      "\u001b[1m48/48\u001b[0m \u001b[32m━━━━━━━━━━━━━━━━━━━━\u001b[0m\u001b[37m\u001b[0m \u001b[1m1s\u001b[0m 19ms/step - accuracy: 0.9843 - loss: 0.1175 - val_accuracy: 0.9809 - val_loss: 0.1375\n",
      "Epoch 10/15\n",
      "\u001b[1m48/48\u001b[0m \u001b[32m━━━━━━━━━━━━━━━━━━━━\u001b[0m\u001b[37m\u001b[0m \u001b[1m1s\u001b[0m 21ms/step - accuracy: 0.9868 - loss: 0.0904 - val_accuracy: 0.9823 - val_loss: 0.1327\n",
      "Epoch 11/15\n",
      "\u001b[1m48/48\u001b[0m \u001b[32m━━━━━━━━━━━━━━━━━━━━\u001b[0m\u001b[37m\u001b[0m \u001b[1m1s\u001b[0m 20ms/step - accuracy: 0.9847 - loss: 0.1122 - val_accuracy: 0.9837 - val_loss: 0.1232\n",
      "Epoch 12/15\n",
      "\u001b[1m48/48\u001b[0m \u001b[32m━━━━━━━━━━━━━━━━━━━━\u001b[0m\u001b[37m\u001b[0m \u001b[1m1s\u001b[0m 21ms/step - accuracy: 0.9877 - loss: 0.0861 - val_accuracy: 0.9840 - val_loss: 0.1293\n",
      "Epoch 13/15\n",
      "\u001b[1m48/48\u001b[0m \u001b[32m━━━━━━━━━━━━━━━━━━━━\u001b[0m\u001b[37m\u001b[0m \u001b[1m1s\u001b[0m 21ms/step - accuracy: 0.9872 - loss: 0.0895 - val_accuracy: 0.9844 - val_loss: 0.1353\n",
      "Epoch 14/15\n",
      "\u001b[1m48/48\u001b[0m \u001b[32m━━━━━━━━━━━━━━━━━━━━\u001b[0m\u001b[37m\u001b[0m \u001b[1m1s\u001b[0m 24ms/step - accuracy: 0.9865 - loss: 0.0936 - val_accuracy: 0.9797 - val_loss: 0.1592\n",
      "Epoch 15/15\n",
      "\u001b[1m48/48\u001b[0m \u001b[32m━━━━━━━━━━━━━━━━━━━━\u001b[0m\u001b[37m\u001b[0m \u001b[1m1s\u001b[0m 21ms/step - accuracy: 0.9858 - loss: 0.0974 - val_accuracy: 0.9828 - val_loss: 0.1386\n"
     ]
    }
   ],
   "source": [
    "batch_size = 20\n",
    "epochs = 15\n",
    "\n",
    "history = model.fit(X_train, np.array(y_train), batch_size=batch_size, epochs=epochs,\n",
    "                    validation_split=0.1)"
   ]
  },
  {
   "cell_type": "markdown",
   "metadata": {},
   "source": [
    "## 4. Model Evaluation"
   ]
  },
  {
   "cell_type": "code",
   "execution_count": 14,
   "metadata": {},
   "outputs": [
    {
     "name": "stderr",
     "output_type": "stream",
     "text": [
      "/opt/anaconda3/lib/python3.11/site-packages/seaborn/_oldcore.py:1119: FutureWarning: use_inf_as_na option is deprecated and will be removed in a future version. Convert inf values to NaN before operating instead.\n",
      "  with pd.option_context('mode.use_inf_as_na', True):\n",
      "/opt/anaconda3/lib/python3.11/site-packages/seaborn/_oldcore.py:1119: FutureWarning: use_inf_as_na option is deprecated and will be removed in a future version. Convert inf values to NaN before operating instead.\n",
      "  with pd.option_context('mode.use_inf_as_na', True):\n",
      "/opt/anaconda3/lib/python3.11/site-packages/seaborn/_oldcore.py:1119: FutureWarning: use_inf_as_na option is deprecated and will be removed in a future version. Convert inf values to NaN before operating instead.\n",
      "  with pd.option_context('mode.use_inf_as_na', True):\n",
      "/opt/anaconda3/lib/python3.11/site-packages/seaborn/_oldcore.py:1119: FutureWarning: use_inf_as_na option is deprecated and will be removed in a future version. Convert inf values to NaN before operating instead.\n",
      "  with pd.option_context('mode.use_inf_as_na', True):\n"
     ]
    },
    {
     "data": {
      "image/png": "[encoded data removed]",
      "text/plain": [
       "<Figure size 1500x500 with 2 Axes>"
      ]
     },
     "metadata": {},
     "output_type": "display_data"
    }
   ],
   "source": [
    "# Plot Training Results \n",
    "model_lstm_1_hist_df = pd.DataFrame(history.history)\n",
    "\n",
    "plt.figure(figsize=(15, 5))\n",
    "plt.subplot(1, 2, 1)\n",
    "sns.lineplot(data=model_lstm_1_hist_df[['accuracy', 'val_accuracy']])\n",
    "plt.grid()\n",
    "plt.title('Accuracy vs Val-Accuracy')\n",
    "\n",
    "plt.subplot(1, 2, 2)\n",
    "sns.lineplot(data=model_lstm_1_hist_df[['loss', 'val_loss']])\n",
    "plt.grid()\n",
    "plt.title('Loss vs Val-Loss')\n",
    "plt.show()"
   ]
  },
  {
   "cell_type": "code",
   "execution_count": 19,
   "metadata": {},
   "outputs": [
    {
     "name": "stdout",
     "output_type": "stream",
     "text": [
      "\u001b[1m9/9\u001b[0m \u001b[32m━━━━━━━━━━━━━━━━━━━━\u001b[0m\u001b[37m\u001b[0m \u001b[1m0s\u001b[0m 6ms/step\n",
      "\u001b[1m34/34\u001b[0m \u001b[32m━━━━━━━━━━━━━━━━━━━━\u001b[0m\u001b[37m\u001b[0m \u001b[1m0s\u001b[0m 4ms/step\n"
     ]
    }
   ],
   "source": [
    "# do prediciton with data test\n",
    "y_pred_test = model.predict(X_test)\n",
    "y_pred_test = np.argmax(y_pred_test, axis=-1)\n",
    "\n",
    "# do prediciton with data train\n",
    "y_pred_train = model.predict(X_train)\n",
    "y_pred_train = np.argmax(y_pred_train, axis=-1)"
   ]
  },
  {
   "cell_type": "code",
   "execution_count": 42,
   "metadata": {},
   "outputs": [],
   "source": [
    "def accuracy_score(words,y_true, y_pred):\n",
    "    \n",
    "    \"\"\"\n",
    "    Function to calculate accuracy\n",
    "    -> param y_true: list of true values\n",
    "    -> param y_pred: list of predicted values\n",
    "    -> return: accuracy score\n",
    "    \n",
    "    \"\"\"\n",
    "    \n",
    "    # Intitializing variable to store count of correctly predicted classes\n",
    "    correct_predictions = 0\n",
    "    total_prediction = 0\n",
    "    list_wrong_predict = []\n",
    "    \n",
    "    for yt_list, yp_list,word_index in zip(y_true, y_pred,words):\n",
    "        for index in range(len(yt_list)):\n",
    "            if yt_list[index] == yp_list[index]:\n",
    "                correct_predictions += 1\n",
    "            else:\n",
    "                if word_index[index] == 0 or word_index[index] > len(word2idx):\n",
    "                    word_desc = \"Unknown\"\n",
    "                else:\n",
    "                    word_desc = list(word2idx.keys())[list(word2idx.values()).index(word_index[index])]\n",
    "                \n",
    "                if yp_list[index] == 0 or yp_list[index] > len(tag2idx):\n",
    "                    pred_desc = \"O\"\n",
    "                else:\n",
    "                    pred_desc = list(tag2idx.keys())[list(tag2idx.values()).index(yp_list[index])]\n",
    "\n",
    "                if yt_list[index] == 0 or yt_list[index] > len(tag2idx):\n",
    "                    actual_desc = \"O\"\n",
    "                else:\n",
    "                    actual_desc = list(tag2idx.keys())[list(tag2idx.values()).index(yt_list[index])]\n",
    "                list_wrong_predict.append({\n",
    "                    'word':word_desc,\n",
    "                    'prediction':pred_desc,\n",
    "                    'actual': actual_desc\n",
    "                })\n",
    "            total_prediction +=1\n",
    "    \n",
    "    \n",
    "    #returns accuracy\n",
    "    return correct_predictions / total_prediction,list_wrong_predict"
   ]
  },
  {
   "cell_type": "code",
   "execution_count": 43,
   "metadata": {},
   "outputs": [
    {
     "name": "stdout",
     "output_type": "stream",
     "text": [
      "Accuracy score in data train is = 0.987795089707271\n",
      "Accuracy score in data test is = 0.985188679245283\n"
     ]
    }
   ],
   "source": [
    "accuracy_score_test,list_wrong_predict_test = accuracy_score(X_test,y_test,y_pred_test)\n",
    "accuracy_score_train,list_wrong_predict_train = accuracy_score(X_train,y_train,y_pred_train)\n",
    "print(f\"Accuracy score in data train is = {accuracy_score_train}\")\n",
    "print(f\"Accuracy score in data test is = {accuracy_score_test}\")"
   ]
  },
  {
   "cell_type": "code",
   "execution_count": 44,
   "metadata": {},
   "outputs": [
    {
     "data": {
      "text/plain": [
       "[{'word': 'merek', 'prediction': 'B-Device', 'actual': 'B-Merek'},\n",
       " {'word': 'kanan', 'prediction': 'O', 'actual': 'E-GamePerformance'},\n",
       " {'word': 'god', 'prediction': 'I-Game', 'actual': 'B-Game'},\n",
       " {'word': 'war', 'prediction': 'I-Game', 'actual': 'E-Game'},\n",
       " {'word': 'valo', 'prediction': 'B-Performance', 'actual': 'B-Game'},\n",
       " {'word': 'roleplay', 'prediction': 'O', 'actual': 'E-Game'},\n",
       " {'word': 'samsung', 'prediction': 'O', 'actual': 'B-Merek'},\n",
       " {'word': 'tambah', 'prediction': 'B-JenisMonitor', 'actual': 'B-Request'},\n",
       " {'word': 'total', 'prediction': 'O', 'actual': 'B-Harga'},\n",
       " {'word': 'edit', 'prediction': 'B-Game', 'actual': 'B-Kegiatan'},\n",
       " {'word': 'toko', 'prediction': 'O', 'actual': 'B-Toko'},\n",
       " {'word': 'world', 'prediction': 'O', 'actual': 'E-Game'},\n",
       " {'word': 'amd', 'prediction': 'B-Spek', 'actual': 'B-Merek'},\n",
       " {'word': 'suplai', 'prediction': 'O', 'actual': 'E-Spek'},\n",
       " {'word': 'gta', 'prediction': 'B-GamePerformance', 'actual': 'B-Game'},\n",
       " {'word': 'valorant', 'prediction': 'E-game', 'actual': 'B-Game'},\n",
       " {'word': 'ti', 'prediction': 'O', 'actual': 'E-Spek'},\n",
       " {'word': 'vega', 'prediction': 'B-Spek', 'actual': 'B-Merek'},\n",
       " {'word': 'voltron', 'prediction': 'B-Spek', 'actual': 'B-Merek'},\n",
       " {'word': 'bronze', 'prediction': 'B-Spek', 'actual': 'E-Merek'},\n",
       " {'word': 'crack', 'prediction': 'B-Kecewa', 'actual': 'B-Original'},\n",
       " {'word': 'spek', 'prediction': 'B-Performance', 'actual': 'B-Spek'},\n",
       " {'word': 'point', 'prediction': 'B-Software', 'actual': 'B-Game'},\n",
       " {'word': 'blank', 'prediction': 'B-Software', 'actual': 'E-Game'},\n",
       " {'word': 'merek', 'prediction': 'B-Spek', 'actual': 'B-Merek'},\n",
       " {'word': 'live', 'prediction': 'B-Performance', 'actual': 'B-Kegiatan'},\n",
       " {'word': 'adobe', 'prediction': 'B-SatuanMemory', 'actual': 'B-Software'},\n",
       " {'word': 'premier', 'prediction': 'B-Spek', 'actual': 'E-Software'},\n",
       " {'word': 'after', 'prediction': 'O', 'actual': 'I-Software'},\n",
       " {'word': 'effect', 'prediction': 'B-Spek', 'actual': 'E-Software'},\n",
       " {'word': 'ready', 'prediction': 'I-Merek', 'actual': 'B-Ketersediaan'},\n",
       " {'word': 'ti', 'prediction': 'B-Original', 'actual': 'E-Spek'},\n",
       " {'word': 'world', 'prediction': 'O', 'actual': 'E-Game'},\n",
       " {'word': 'microsoft', 'prediction': 'B-Spek', 'actual': 'B-Game'},\n",
       " {'word': 'flight', 'prediction': 'B-Spek', 'actual': 'I-Game'},\n",
       " {'word': 'simulator', 'prediction': 'O', 'actual': 'E-Game'},\n",
       " {'word': 'frame', 'prediction': 'O', 'actual': 'B-GamePerformance'},\n",
       " {'word': 'drop', 'prediction': 'O', 'actual': 'B-GamePerformance'},\n",
       " {'word': 'render', 'prediction': 'B-Performance', 'actual': 'B-Kegiatan'},\n",
       " {'word': 'mobo', 'prediction': 'B-SatuanMemory', 'actual': 'B-Spek'},\n",
       " {'word': 'budget', 'prediction': 'B-Spek', 'actual': 'B-Harga'},\n",
       " {'word': 'merek', 'prediction': 'I-Merek', 'actual': 'B-Merek'},\n",
       " {'word': 'bit', 'prediction': 'B-OS', 'actual': 'B-SatuanProcessor'},\n",
       " {'word': 'setting', 'prediction': 'B-Game', 'actual': 'B-performance'},\n",
       " {'word': 'install', 'prediction': 'B-Software', 'actual': 'B-Request'},\n",
       " {'word': 'garansi', 'prediction': 'B-Bayar', 'actual': 'B-Garansi'},\n",
       " {'word': 'office', 'prediction': 'B-Game', 'actual': 'E-Software'},\n",
       " {'word': 'merk', 'prediction': 'B-Spek', 'actual': 'B-Merek'},\n",
       " {'word': 'merk', 'prediction': 'I-Merek', 'actual': 'B-Merek'},\n",
       " {'word': 'lengkap', 'prediction': 'B-Performance', 'actual': 'B-FullSet'},\n",
       " {'word': 'gratis', 'prediction': 'B-Spek', 'actual': 'B-Harga'},\n",
       " {'word': 'ti', 'prediction': 'O', 'actual': 'E-Spek'},\n",
       " {'word': 'total', 'prediction': 'I-Merek', 'actual': 'B-Harga'},\n",
       " {'word': 'design', 'prediction': 'B-Game', 'actual': 'B-Kegiatan'},\n",
       " {'word': 'edit', 'prediction': 'O', 'actual': 'B-Kegiatan'},\n",
       " {'word': 'kuat', 'prediction': 'O', 'actual': 'B-Performance'},\n",
       " {'word': 'pc', 'prediction': 'B-Request', 'actual': 'B-Device'},\n",
       " {'word': 'toko', 'prediction': 'O', 'actual': 'B-Toko'},\n",
       " {'word': 'pc', 'prediction': 'E-game', 'actual': 'B-Device'},\n",
       " {'word': 'toko', 'prediction': 'O', 'actual': 'B-Toko'},\n",
       " {'word': 'kanan', 'prediction': 'O', 'actual': 'E-GamePerformance'},\n",
       " {'word': 'livestream', 'prediction': 'O', 'actual': 'B-Kegiatan'},\n",
       " {'word': 'pekanbaru', 'prediction': 'E-Kegiatan', 'actual': 'B-Tempat'},\n",
       " {'word': 'riau', 'prediction': 'O', 'actual': 'B-Tempat'},\n",
       " {'word': 'ongkir', 'prediction': 'O', 'actual': 'B-Pengiriman'},\n",
       " {'word': 'roplay', 'prediction': 'B-Game', 'actual': 'E-Game'},\n",
       " {'word': 'toko', 'prediction': 'O', 'actual': 'B-Toko'},\n",
       " {'word': 'merk', 'prediction': 'B-Performance', 'actual': 'B-Merek'},\n",
       " {'word': 'apex', 'prediction': 'O', 'actual': 'B-Game'},\n",
       " {'word': 'legends', 'prediction': 'B-Ketersediaan', 'actual': 'E-Game'},\n",
       " {'word': 'redy', 'prediction': 'B-Spek', 'actual': 'B-Ketersediaan'},\n",
       " {'word': 'harga', 'prediction': 'O', 'actual': 'B-Harga'},\n",
       " {'word': 'photoshop', 'prediction': 'B-Performance', 'actual': 'B-Software'},\n",
       " {'word': 'hardsik', 'prediction': 'O', 'actual': 'B-Spek'},\n",
       " {'word': 'toko', 'prediction': 'O', 'actual': 'B-Toko'},\n",
       " {'word': 'garansi', 'prediction': 'B-Bayar', 'actual': 'B-Garansi'},\n",
       " {'word': 'live', 'prediction': 'E-Kegiatan', 'actual': 'B-Kegiatan'},\n",
       " {'word': 'ti', 'prediction': 'O', 'actual': 'E-Spek'},\n",
       " {'word': 'intel', 'prediction': 'O', 'actual': 'B-Merek'},\n",
       " {'word': 'msi', 'prediction': 'B-Satuan', 'actual': 'B-Merek'},\n",
       " {'word': 'gb', 'prediction': 'I-Merek', 'actual': 'B-SatuanMemory'},\n",
       " {'word': 'blue', 'prediction': 'O', 'actual': 'E-Spek'},\n",
       " {'word': 'tb', 'prediction': 'O', 'actual': 'B-SatuanMemory'},\n",
       " {'word': 'gb', 'prediction': 'B-Satuan', 'actual': 'B-SatuanMemory'},\n",
       " {'word': 'msi', 'prediction': 'I-Merek', 'actual': 'B-Merek'},\n",
       " {'word': 'gtx', 'prediction': 'I-Merek', 'actual': 'B-Spek'},\n",
       " {'word': 'ti', 'prediction': 'O', 'actual': 'E-Spek'},\n",
       " {'word': 'gaming', 'prediction': 'B-Original', 'actual': 'B-Game'},\n",
       " {'word': 'gb', 'prediction': 'I-Merek', 'actual': 'B-SatuanMemory'},\n",
       " {'word': 'gaming', 'prediction': 'O', 'actual': 'B-Game'},\n",
       " {'word': 'pc', 'prediction': 'O', 'actual': 'B-Device'},\n",
       " {'word': 'cooler', 'prediction': 'O', 'actual': 'B-Device'},\n",
       " {'word': 'rgb', 'prediction': 'O', 'actual': 'B-Spek'},\n",
       " {'word': 'speck', 'prediction': 'O', 'actual': 'B-Spek'},\n",
       " {'word': 'budget', 'prediction': 'O', 'actual': 'B-Harga'},\n",
       " {'word': 'Unknown', 'prediction': 'O', 'actual': 'O'},\n",
       " {'word': 'ready', 'prediction': 'B-SatuanMemory', 'actual': 'B-Ketersediaan'},\n",
       " {'word': 'hdd', 'prediction': 'B-SatuanMemory', 'actual': 'B-Spek'},\n",
       " {'word': 'super', 'prediction': 'B-Spek', 'actual': 'E-Spek'},\n",
       " {'word': 'ganti', 'prediction': 'B-Spek', 'actual': 'B-Request'},\n",
       " {'word': 'update', 'prediction': 'B-Spek', 'actual': 'B-Request'},\n",
       " {'word': 'kanan',\n",
       "  'prediction': 'B-Performance',\n",
       "  'actual': 'E-GamePerformance'},\n",
       " {'word': 'vesta', 'prediction': 'O', 'actual': 'B-Merek'},\n",
       " {'word': 'ragnarok', 'prediction': 'B-Spek', 'actual': 'B-GameEpisode'},\n",
       " {'word': 'vesta', 'prediction': 'B-Spek', 'actual': 'B-Merek'},\n",
       " {'word': 'ganti', 'prediction': 'B-Spek', 'actual': 'B-Request'},\n",
       " {'word': 'bebas', 'prediction': 'B-Spek', 'actual': 'B-Harga'},\n",
       " {'word': 'jalur', 'prediction': 'B-Tempat', 'actual': 'B-Pengiriman'},\n",
       " {'word': 'udara', 'prediction': 'B-Spek', 'actual': 'B-Pengiriman'},\n",
       " {'word': 'redemption', 'prediction': 'E-Device', 'actual': 'E-Game'},\n",
       " {'word': 'evil', 'prediction': 'B-Game', 'actual': 'E-Game'},\n",
       " {'word': 'us', 'prediction': 'I-Game', 'actual': 'E-Game'},\n",
       " {'word': 'god', 'prediction': 'I-Game', 'actual': 'B-Game'},\n",
       " {'word': 'war', 'prediction': 'I-Game', 'actual': 'E-Game'},\n",
       " {'word': 'ragnarok', 'prediction': 'I-Merek', 'actual': 'B-GameEpisode'},\n",
       " {'word': 'call', 'prediction': 'I-Merek', 'actual': 'B-Game'},\n",
       " {'word': 'of', 'prediction': 'I-Merek', 'actual': 'I-Game'},\n",
       " {'word': 'duty', 'prediction': 'O', 'actual': 'E-Game'},\n",
       " {'word': 'warzone', 'prediction': 'O', 'actual': 'B-GameEpisode'},\n",
       " {'word': 'pasang', 'prediction': 'B-Spek', 'actual': 'B-Request'},\n",
       " {'word': 'setting', 'prediction': 'B-Performance', 'actual': 'B-performance'},\n",
       " {'word': 'ti', 'prediction': 'O', 'actual': 'E-Spek'},\n",
       " {'word': 'bebas', 'prediction': 'B-Game', 'actual': 'B-Harga'},\n",
       " {'word': 'orisinal', 'prediction': 'B-Tempat', 'actual': 'B-Original'},\n",
       " {'word': 'photoshop', 'prediction': 'B-Kegiatan', 'actual': 'B-Software'},\n",
       " {'word': 'after', 'prediction': 'O', 'actual': 'I-Software'},\n",
       " {'word': 'effect', 'prediction': 'I-GamePerformance', 'actual': 'E-Software'},\n",
       " {'word': 'ryzen', 'prediction': 'B-Spek', 'actual': 'E-Merek'},\n",
       " {'word': 'pc', 'prediction': 'O', 'actual': 'B-Device'},\n",
       " {'word': 'merek', 'prediction': 'B-Spek', 'actual': 'B-Merek'},\n",
       " {'word': 'ti', 'prediction': 'O', 'actual': 'E-Spek'},\n",
       " {'word': 'ilangin', 'prediction': 'B-Game', 'actual': 'B-Request'},\n",
       " {'word': 'download', 'prediction': 'B-Bayar', 'actual': 'B-Request'},\n",
       " {'word': 'vesta', 'prediction': 'O', 'actual': 'B-Merek'},\n",
       " {'word': 'paket', 'prediction': 'O', 'actual': 'B-FullSet'},\n",
       " {'word': 'harga', 'prediction': 'B-SatuanMemory', 'actual': 'B-Harga'},\n",
       " {'word': 'aplikasi', 'prediction': 'B-Game', 'actual': 'B-Software'},\n",
       " {'word': 'kanan',\n",
       "  'prediction': 'B-Performance',\n",
       "  'actual': 'E-GamePerformance'},\n",
       " {'word': 'red', 'prediction': 'B-Spek', 'actual': 'B-Game'},\n",
       " {'word': 'redemption', 'prediction': 'O', 'actual': 'E-Game'},\n",
       " {'word': 'download', 'prediction': 'B-Bayar', 'actual': 'B-Request'},\n",
       " {'word': 'adobe', 'prediction': 'B-Bayar', 'actual': 'B-Software'},\n",
       " {'word': 'ringan', 'prediction': 'O', 'actual': 'B-Performance'},\n",
       " {'word': 'ti', 'prediction': 'O', 'actual': 'E-Spek'},\n",
       " {'word': 'curved', 'prediction': 'B-FullSet', 'actual': 'B-JenisMonitor'},\n",
       " {'word': 'ti', 'prediction': 'B-Game', 'actual': 'E-Spek'},\n",
       " {'word': 'bonus', 'prediction': 'E-Kegiatan', 'actual': 'B-Harga'},\n",
       " {'word': 'kartu', 'prediction': 'O', 'actual': 'B-Spek'},\n",
       " {'word': 'grafis', 'prediction': 'O', 'actual': 'E-Spek'},\n",
       " {'word': 'ti', 'prediction': 'O', 'actual': 'E-Spek'},\n",
       " {'word': 'tera', 'prediction': 'B-Spek', 'actual': 'B-SatuanMemory'},\n",
       " {'word': 'roleplay', 'prediction': 'B-Tempat', 'actual': 'E-Game'},\n",
       " {'word': 'budget', 'prediction': 'B-Aksesoris', 'actual': 'B-Harga'},\n",
       " {'word': 'total', 'prediction': 'O', 'actual': 'B-Harga'},\n",
       " {'word': 'toko', 'prediction': 'O', 'actual': 'B-Toko'},\n",
       " {'word': 'windows', 'prediction': 'B-Tempat', 'actual': 'B-OS'},\n",
       " {'word': 'supply', 'prediction': 'B-Performance', 'actual': 'E-Spek'}]"
      ]
     },
     "execution_count": 44,
     "metadata": {},
     "output_type": "execute_result"
    }
   ],
   "source": [
    "list_wrong_predict_test"
   ]
  },
  {
   "cell_type": "markdown",
   "metadata": {},
   "source": [
    "## ***5. Model Save***"
   ]
  },
  {
   "cell_type": "code",
   "execution_count": 18,
   "metadata": {},
   "outputs": [],
   "source": [
    "# Save best model\n",
    "with open('./deployment_streamlit/model_NER.pkl', 'wb') as file1:\n",
    "  pickle.dump(model, file1)\n",
    "\n",
    "with open('model_NER.pkl', 'wb') as file2:\n",
    "  pickle.dump(model, file2)"
   ]
  }
 ],
 "metadata": {
  "kernelspec": {
   "display_name": "base",
   "language": "python",
   "name": "python3"
  },
  "language_info": {
   "codemirror_mode": {
    "name": "ipython",
    "version": 3
   },
   "file_extension": ".py",
   "mimetype": "text/x-python",
   "name": "python",
   "nbconvert_exporter": "python",
   "pygments_lexer": "ipython3",
   "version": "3.11.7"
  }
 },
 "nbformat": 4,
 "nbformat_minor": 2
}
